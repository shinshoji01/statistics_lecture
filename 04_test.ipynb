{
 "cells": [
  {
   "cell_type": "code",
   "execution_count": 54,
   "id": "de1edda8",
   "metadata": {},
   "outputs": [],
   "source": [
    "import seaborn as sns\n",
    "import numpy as np\n",
    "from scipy import stats\n",
    "import matplotlib.pyplot as plt\n",
    "import pandas as pd\n",
    "from sklearn.preprocessing import StandardScaler \n",
    "from statsmodels.stats.proportion import proportions_ztest\n",
    "from statsmodels.stats.power import TTestIndPower\n",
    "from statsmodels.api import qqplot"
   ]
  },
  {
   "cell_type": "markdown",
   "id": "f445a868",
   "metadata": {},
   "source": [
    "## Data Preparation"
   ]
  },
  {
   "cell_type": "code",
   "execution_count": 3,
   "id": "f724c30a",
   "metadata": {},
   "outputs": [
    {
     "data": {
      "text/html": [
       "<div>\n",
       "<style scoped>\n",
       "    .dataframe tbody tr th:only-of-type {\n",
       "        vertical-align: middle;\n",
       "    }\n",
       "\n",
       "    .dataframe tbody tr th {\n",
       "        vertical-align: top;\n",
       "    }\n",
       "\n",
       "    .dataframe thead th {\n",
       "        text-align: right;\n",
       "    }\n",
       "</style>\n",
       "<table border=\"1\" class=\"dataframe\">\n",
       "  <thead>\n",
       "    <tr style=\"text-align: right;\">\n",
       "      <th></th>\n",
       "      <th>total_bill</th>\n",
       "      <th>tip</th>\n",
       "      <th>sex</th>\n",
       "      <th>smoker</th>\n",
       "      <th>day</th>\n",
       "      <th>time</th>\n",
       "      <th>size</th>\n",
       "      <th>tip_rate</th>\n",
       "    </tr>\n",
       "  </thead>\n",
       "  <tbody>\n",
       "    <tr>\n",
       "      <th>0</th>\n",
       "      <td>16.99</td>\n",
       "      <td>1.01</td>\n",
       "      <td>Female</td>\n",
       "      <td>No</td>\n",
       "      <td>Sun</td>\n",
       "      <td>Dinner</td>\n",
       "      <td>2</td>\n",
       "      <td>0.059447</td>\n",
       "    </tr>\n",
       "    <tr>\n",
       "      <th>1</th>\n",
       "      <td>10.34</td>\n",
       "      <td>1.66</td>\n",
       "      <td>Male</td>\n",
       "      <td>No</td>\n",
       "      <td>Sun</td>\n",
       "      <td>Dinner</td>\n",
       "      <td>3</td>\n",
       "      <td>0.160542</td>\n",
       "    </tr>\n",
       "    <tr>\n",
       "      <th>2</th>\n",
       "      <td>21.01</td>\n",
       "      <td>3.50</td>\n",
       "      <td>Male</td>\n",
       "      <td>No</td>\n",
       "      <td>Sun</td>\n",
       "      <td>Dinner</td>\n",
       "      <td>3</td>\n",
       "      <td>0.166587</td>\n",
       "    </tr>\n",
       "    <tr>\n",
       "      <th>3</th>\n",
       "      <td>23.68</td>\n",
       "      <td>3.31</td>\n",
       "      <td>Male</td>\n",
       "      <td>No</td>\n",
       "      <td>Sun</td>\n",
       "      <td>Dinner</td>\n",
       "      <td>2</td>\n",
       "      <td>0.139780</td>\n",
       "    </tr>\n",
       "    <tr>\n",
       "      <th>4</th>\n",
       "      <td>24.59</td>\n",
       "      <td>3.61</td>\n",
       "      <td>Female</td>\n",
       "      <td>No</td>\n",
       "      <td>Sun</td>\n",
       "      <td>Dinner</td>\n",
       "      <td>4</td>\n",
       "      <td>0.146808</td>\n",
       "    </tr>\n",
       "    <tr>\n",
       "      <th>...</th>\n",
       "      <td>...</td>\n",
       "      <td>...</td>\n",
       "      <td>...</td>\n",
       "      <td>...</td>\n",
       "      <td>...</td>\n",
       "      <td>...</td>\n",
       "      <td>...</td>\n",
       "      <td>...</td>\n",
       "    </tr>\n",
       "    <tr>\n",
       "      <th>239</th>\n",
       "      <td>29.03</td>\n",
       "      <td>5.92</td>\n",
       "      <td>Male</td>\n",
       "      <td>No</td>\n",
       "      <td>Sat</td>\n",
       "      <td>Dinner</td>\n",
       "      <td>3</td>\n",
       "      <td>0.203927</td>\n",
       "    </tr>\n",
       "    <tr>\n",
       "      <th>240</th>\n",
       "      <td>27.18</td>\n",
       "      <td>2.00</td>\n",
       "      <td>Female</td>\n",
       "      <td>Yes</td>\n",
       "      <td>Sat</td>\n",
       "      <td>Dinner</td>\n",
       "      <td>2</td>\n",
       "      <td>0.073584</td>\n",
       "    </tr>\n",
       "    <tr>\n",
       "      <th>241</th>\n",
       "      <td>22.67</td>\n",
       "      <td>2.00</td>\n",
       "      <td>Male</td>\n",
       "      <td>Yes</td>\n",
       "      <td>Sat</td>\n",
       "      <td>Dinner</td>\n",
       "      <td>2</td>\n",
       "      <td>0.088222</td>\n",
       "    </tr>\n",
       "    <tr>\n",
       "      <th>242</th>\n",
       "      <td>17.82</td>\n",
       "      <td>1.75</td>\n",
       "      <td>Male</td>\n",
       "      <td>No</td>\n",
       "      <td>Sat</td>\n",
       "      <td>Dinner</td>\n",
       "      <td>2</td>\n",
       "      <td>0.098204</td>\n",
       "    </tr>\n",
       "    <tr>\n",
       "      <th>243</th>\n",
       "      <td>18.78</td>\n",
       "      <td>3.00</td>\n",
       "      <td>Female</td>\n",
       "      <td>No</td>\n",
       "      <td>Thur</td>\n",
       "      <td>Dinner</td>\n",
       "      <td>2</td>\n",
       "      <td>0.159744</td>\n",
       "    </tr>\n",
       "  </tbody>\n",
       "</table>\n",
       "<p>244 rows × 8 columns</p>\n",
       "</div>"
      ],
      "text/plain": [
       "     total_bill   tip     sex smoker   day    time  size  tip_rate\n",
       "0         16.99  1.01  Female     No   Sun  Dinner     2  0.059447\n",
       "1         10.34  1.66    Male     No   Sun  Dinner     3  0.160542\n",
       "2         21.01  3.50    Male     No   Sun  Dinner     3  0.166587\n",
       "3         23.68  3.31    Male     No   Sun  Dinner     2  0.139780\n",
       "4         24.59  3.61  Female     No   Sun  Dinner     4  0.146808\n",
       "..          ...   ...     ...    ...   ...     ...   ...       ...\n",
       "239       29.03  5.92    Male     No   Sat  Dinner     3  0.203927\n",
       "240       27.18  2.00  Female    Yes   Sat  Dinner     2  0.073584\n",
       "241       22.67  2.00    Male    Yes   Sat  Dinner     2  0.088222\n",
       "242       17.82  1.75    Male     No   Sat  Dinner     2  0.098204\n",
       "243       18.78  3.00  Female     No  Thur  Dinner     2  0.159744\n",
       "\n",
       "[244 rows x 8 columns]"
      ]
     },
     "execution_count": 3,
     "metadata": {},
     "output_type": "execute_result"
    }
   ],
   "source": [
    "df = sns.load_dataset(\"tips\")\n",
    "df[\"tip_rate\"] = df[\"tip\"] / df[\"total_bill\"]\n",
    "df"
   ]
  },
  {
   "cell_type": "markdown",
   "id": "a153911b",
   "metadata": {},
   "source": [
    "## Z-test"
   ]
  },
  {
   "cell_type": "code",
   "execution_count": 4,
   "id": "3cac7acd",
   "metadata": {},
   "outputs": [
    {
     "data": {
      "text/plain": [
       "(-0.3840618481549573, 0.35046630388746547)"
      ]
     },
     "execution_count": 4,
     "metadata": {},
     "output_type": "execute_result"
    }
   ],
   "source": [
    "z, p = proportions_ztest([30, 33], [1000, 1000], alternative=\"smaller\")\n",
    "z, p"
   ]
  },
  {
   "cell_type": "markdown",
   "id": "dd15ffce",
   "metadata": {},
   "source": [
    "## $\\chi^2$ test"
   ]
  },
  {
   "cell_type": "code",
   "execution_count": 5,
   "id": "216a0b9f",
   "metadata": {},
   "outputs": [
    {
     "data": {
      "text/plain": [
       "(24.107142857142858,\n",
       " 9.112167294252327e-07,\n",
       " 1,\n",
       " array([[ 6., 14.],\n",
       "        [24., 56.]]))"
      ]
     },
     "execution_count": 5,
     "metadata": {},
     "output_type": "execute_result"
    }
   ],
   "source": [
    "obs = [[15, 5], [15, 65]]\n",
    "chi2, p, dof, ex = stats.chi2_contingency(obs, correction=False)\n",
    "chi2, p, dof, ex"
   ]
  },
  {
   "cell_type": "markdown",
   "id": "169a469a",
   "metadata": {},
   "source": [
    "## Z-test vs. $\\chi^2$ test"
   ]
  },
  {
   "cell_type": "code",
   "execution_count": 6,
   "id": "3cb24bb7",
   "metadata": {},
   "outputs": [],
   "source": [
    "column = \"time\"\n",
    "value = \"Dinner\""
   ]
  },
  {
   "cell_type": "code",
   "execution_count": 7,
   "id": "144b8f1c",
   "metadata": {},
   "outputs": [],
   "source": [
    "n = 50\n",
    "samples1 = df[column].sample(n)\n",
    "samples2 = df[column].sample(n)"
   ]
  },
  {
   "cell_type": "markdown",
   "id": "bac96e12",
   "metadata": {},
   "source": [
    "- Z-test"
   ]
  },
  {
   "cell_type": "code",
   "execution_count": 8,
   "id": "a317be81",
   "metadata": {},
   "outputs": [
    {
     "data": {
      "text/plain": [
       "(0.20712325533373352, 0.8359136007500891)"
      ]
     },
     "execution_count": 8,
     "metadata": {},
     "output_type": "execute_result"
    }
   ],
   "source": [
    "count1 = samples1.value_counts()[value]\n",
    "count2 = samples2.value_counts()[value]\n",
    "z, p = proportions_ztest([count1, count2], [n, n], alternative=\"two-sided\")\n",
    "z, p"
   ]
  },
  {
   "cell_type": "code",
   "execution_count": 9,
   "id": "54ad2faf",
   "metadata": {},
   "outputs": [
    {
     "data": {
      "text/plain": [
       "0.8359136007500891"
      ]
     },
     "execution_count": 9,
     "metadata": {},
     "output_type": "execute_result"
    }
   ],
   "source": [
    "if z<0:\n",
    "    _, p_ = proportions_ztest([count1, count2], [n, n], alternative=\"smaller\")\n",
    "else:\n",
    "    _, p_ = proportions_ztest([count1, count2], [n, n], alternative=\"larger\")\n",
    "p_*2"
   ]
  },
  {
   "cell_type": "markdown",
   "id": "5a1fa2fc",
   "metadata": {},
   "source": [
    "- $\\chi^2 test$"
   ]
  },
  {
   "cell_type": "code",
   "execution_count": 10,
   "id": "aba7785c",
   "metadata": {},
   "outputs": [
    {
     "data": {
      "text/plain": [
       "(0.0429000429000429,\n",
       " 0.8359136007500891,\n",
       " 1,\n",
       " array([[31.5, 31.5],\n",
       "        [18.5, 18.5]]))"
      ]
     },
     "execution_count": 10,
     "metadata": {},
     "output_type": "execute_result"
    }
   ],
   "source": [
    "obs = np.array([samples1.value_counts().values, samples2.value_counts().values]).T\n",
    "chi2, p, dof, ex = stats.chi2_contingency(obs, correction=False)\n",
    "chi2, p, dof, ex"
   ]
  },
  {
   "cell_type": "markdown",
   "id": "0637c1bd",
   "metadata": {},
   "source": [
    "## t test"
   ]
  },
  {
   "cell_type": "code",
   "execution_count": 11,
   "id": "d7d34045",
   "metadata": {},
   "outputs": [],
   "source": [
    "column = \"tip_rate\""
   ]
  },
  {
   "cell_type": "code",
   "execution_count": 12,
   "id": "8a74c1c3",
   "metadata": {},
   "outputs": [],
   "source": [
    "male_tips = df[\"tip_rate\"][df[\"sex\"]==\"Male\"]\n",
    "female_tips = df[\"tip_rate\"][df[\"sex\"]==\"Female\"]"
   ]
  },
  {
   "cell_type": "code",
   "execution_count": 13,
   "id": "b1f646d5",
   "metadata": {},
   "outputs": [
    {
     "data": {
      "text/plain": [
       "(0.15765054700429743, 0.16649073632892478)"
      ]
     },
     "execution_count": 13,
     "metadata": {},
     "output_type": "execute_result"
    }
   ],
   "source": [
    "male_tips.mean(), female_tips.mean()"
   ]
  },
  {
   "cell_type": "code",
   "execution_count": 14,
   "id": "db6049a6",
   "metadata": {},
   "outputs": [
    {
     "data": {
      "text/plain": [
       "(0.004196172792769981, 0.002876362058404039)"
      ]
     },
     "execution_count": 14,
     "metadata": {},
     "output_type": "execute_result"
    }
   ],
   "source": [
    "male_tips.var(), female_tips.var()"
   ]
  },
  {
   "cell_type": "code",
   "execution_count": 15,
   "id": "b414fe0f",
   "metadata": {},
   "outputs": [
    {
     "data": {
      "text/plain": [
       "(-1.0833972270477996, 0.2797103849605489)"
      ]
     },
     "execution_count": 15,
     "metadata": {},
     "output_type": "execute_result"
    }
   ],
   "source": [
    "t_st, p_st = stats.ttest_ind(male_tips, female_tips, equal_var=True)\n",
    "t_st, p_st"
   ]
  },
  {
   "cell_type": "code",
   "execution_count": 16,
   "id": "e23e9ddb",
   "metadata": {},
   "outputs": [
    {
     "data": {
      "text/plain": [
       "(-1.1432770167349968, 0.2542456188927583)"
      ]
     },
     "execution_count": 16,
     "metadata": {},
     "output_type": "execute_result"
    }
   ],
   "source": [
    "t_we, p_we = stats.ttest_ind(male_tips, female_tips, equal_var=False)\n",
    "t_we, p_we"
   ]
  },
  {
   "cell_type": "code",
   "execution_count": 17,
   "id": "903dbcd2",
   "metadata": {},
   "outputs": [
    {
     "data": {
      "text/plain": [
       "<seaborn.axisgrid.FacetGrid at 0x7f06ce9ae070>"
      ]
     },
     "execution_count": 17,
     "metadata": {},
     "output_type": "execute_result"
    },
    {
     "data": {
      "image/png": "[encoded data removed]",
      "text/plain": [
       "<Figure size 360x360 with 1 Axes>"
      ]
     },
     "metadata": {
      "needs_background": "light"
     },
     "output_type": "display_data"
    },
    {
     "data": {
      "image/png": "[encoded data removed]",
      "text/plain": [
       "<Figure size 360x360 with 1 Axes>"
      ]
     },
     "metadata": {
      "needs_background": "light"
     },
     "output_type": "display_data"
    }
   ],
   "source": [
    "sns.displot(male_tips)\n",
    "sns.displot(female_tips)"
   ]
  },
  {
   "cell_type": "code",
   "execution_count": 18,
   "id": "2366cdb2",
   "metadata": {},
   "outputs": [
    {
     "data": {
      "text/plain": [
       "<matplotlib.axes._subplots.AxesSubplot at 0x7f06ce9187f0>"
      ]
     },
     "execution_count": 18,
     "metadata": {},
     "output_type": "execute_result"
    },
    {
     "data": {
      "image/png": "[encoded data removed]",
      "text/plain": [
       "<Figure size 432x288 with 1 Axes>"
      ]
     },
     "metadata": {
      "needs_background": "light"
     },
     "output_type": "display_data"
    }
   ],
   "source": [
    "sns.boxplot(data=df, x=\"sex\", y=\"tip_rate\")"
   ]
  },
  {
   "cell_type": "markdown",
   "id": "50a1cb09",
   "metadata": {},
   "source": [
    "## Q-Q Plot"
   ]
  },
  {
   "cell_type": "code",
   "execution_count": 19,
   "id": "98f1d7d0",
   "metadata": {},
   "outputs": [],
   "source": [
    "male_tipr = df[df[\"sex\"]==\"Male\"][\"tip_rate\"]\n",
    "female_tipr = df[df[\"sex\"]==\"Female\"][\"tip_rate\"]"
   ]
  },
  {
   "cell_type": "code",
   "execution_count": 20,
   "id": "6a90e55a",
   "metadata": {},
   "outputs": [
    {
     "data": {
      "image/png": "[encoded data removed]",
      "text/plain": [
       "<Figure size 432x288 with 1 Axes>"
      ]
     },
     "metadata": {
      "needs_background": "light"
     },
     "output_type": "display_data"
    }
   ],
   "source": [
    "# sns.displot(male_tipr)\n",
    "fig = qqplot(male_tipr,\n",
    "             line=\"r\",\n",
    "             dist=stats.norm(loc=np.mean(male_tipr),\n",
    "                             scale=np.sqrt(stats.tvar(male_tipr))))"
   ]
  },
  {
   "cell_type": "code",
   "execution_count": 21,
   "id": "60c0a4a5",
   "metadata": {},
   "outputs": [
    {
     "data": {
      "image/png": "[encoded data removed]",
      "text/plain": [
       "<Figure size 432x288 with 1 Axes>"
      ]
     },
     "metadata": {
      "needs_background": "light"
     },
     "output_type": "display_data"
    }
   ],
   "source": [
    "# sns.displot(female_tipr)\n",
    "fig = qqplot(female_tipr,\n",
    "             line=\"r\",\n",
    "             dist=stats.norm(loc=np.mean(female_tipr),\n",
    "                             scale=np.sqrt(stats.tvar(female_tipr))))"
   ]
  },
  {
   "cell_type": "markdown",
   "id": "26834582",
   "metadata": {},
   "source": [
    "## Shapiro Wilk test"
   ]
  },
  {
   "cell_type": "code",
   "execution_count": 22,
   "id": "72135c17",
   "metadata": {},
   "outputs": [
    {
     "data": {
      "text/plain": [
       "ShapiroResult(statistic=0.7447847127914429, pvalue=3.2243281107541917e-15)"
      ]
     },
     "execution_count": 22,
     "metadata": {},
     "output_type": "execute_result"
    }
   ],
   "source": [
    "stats.shapiro(male_tipr)"
   ]
  },
  {
   "cell_type": "code",
   "execution_count": 23,
   "id": "a274062b",
   "metadata": {},
   "outputs": [
    {
     "data": {
      "text/plain": [
       "ShapiroResult(statistic=0.8982974290847778, pvalue=4.717996489489451e-06)"
      ]
     },
     "execution_count": 23,
     "metadata": {},
     "output_type": "execute_result"
    }
   ],
   "source": [
    "stats.shapiro(female_tipr)"
   ]
  },
  {
   "cell_type": "code",
   "execution_count": 24,
   "id": "4be069e4",
   "metadata": {},
   "outputs": [
    {
     "data": {
      "text/plain": [
       "ShapiroResult(statistic=0.9931070804595947, pvalue=0.6644759774208069)"
      ]
     },
     "execution_count": 24,
     "metadata": {},
     "output_type": "execute_result"
    }
   ],
   "source": [
    "stats.shapiro(np.sort(male_tipr)[:-1])"
   ]
  },
  {
   "cell_type": "code",
   "execution_count": 25,
   "id": "8582389b",
   "metadata": {},
   "outputs": [
    {
     "data": {
      "text/plain": [
       "ShapiroResult(statistic=0.9696651697158813, pvalue=0.04252713546156883)"
      ]
     },
     "execution_count": 25,
     "metadata": {},
     "output_type": "execute_result"
    }
   ],
   "source": [
    "stats.shapiro(np.sort(female_tipr)[:-2])"
   ]
  },
  {
   "cell_type": "markdown",
   "id": "50db1711",
   "metadata": {},
   "source": [
    "## F distribution"
   ]
  },
  {
   "cell_type": "code",
   "execution_count": 26,
   "id": "fb9900b9",
   "metadata": {},
   "outputs": [
    {
     "data": {
      "text/plain": [
       "<matplotlib.legend.Legend at 0x7f06ce3625e0>"
      ]
     },
     "execution_count": 26,
     "metadata": {},
     "output_type": "execute_result"
    },
    {
     "data": {
      "image/png": "[encoded data removed]",
      "text/plain": [
       "<Figure size 432x288 with 1 Axes>"
      ]
     },
     "metadata": {
      "needs_background": "light"
     },
     "output_type": "display_data"
    }
   ],
   "source": [
    "x = np.linspace(0, 3, 100)\n",
    "for dfn in range(1, 12, 5):\n",
    "    for dfd in range(1, 12, 5):\n",
    "        y = stats.f(dfn, dfd).pdf(x)\n",
    "        plt.plot(x, y, label=f\"dfn:{dfn}, dfd:{dfd}\")\n",
    "plt.legend()"
   ]
  },
  {
   "cell_type": "markdown",
   "id": "29da42cb",
   "metadata": {},
   "source": [
    "## F test"
   ]
  },
  {
   "cell_type": "code",
   "execution_count": 27,
   "id": "11ce5912",
   "metadata": {},
   "outputs": [],
   "source": [
    "dof_male = len(male_tipr) - 1\n",
    "dof_female = len(female_tipr) - 1"
   ]
  },
  {
   "cell_type": "code",
   "execution_count": 28,
   "id": "a7457542",
   "metadata": {},
   "outputs": [
    {
     "data": {
      "text/plain": [
       "1.4588472200534603"
      ]
     },
     "execution_count": 28,
     "metadata": {},
     "output_type": "execute_result"
    }
   ],
   "source": [
    "f = stats.tvar(male_tipr) / stats.tvar(female_tipr)\n",
    "f"
   ]
  },
  {
   "cell_type": "code",
   "execution_count": 29,
   "id": "373b380a",
   "metadata": {},
   "outputs": [
    {
     "data": {
      "text/plain": [
       "[<matplotlib.lines.Line2D at 0x7f06ce2ea220>]"
      ]
     },
     "execution_count": 29,
     "metadata": {},
     "output_type": "execute_result"
    },
    {
     "data": {
      "image/png": "[encoded data removed]",
      "text/plain": [
       "<Figure size 432x288 with 1 Axes>"
      ]
     },
     "metadata": {
      "needs_background": "light"
     },
     "output_type": "display_data"
    }
   ],
   "source": [
    "x = np.linspace(0, 3, 100)\n",
    "y = stats.f(dof_male, dof_female).pdf(x)\n",
    "plt.plot(x, y)"
   ]
  },
  {
   "cell_type": "code",
   "execution_count": 30,
   "id": "493727c8",
   "metadata": {},
   "outputs": [
    {
     "data": {
      "text/plain": [
       "0.027100863454374447"
      ]
     },
     "execution_count": 30,
     "metadata": {},
     "output_type": "execute_result"
    },
    {
     "data": {
      "image/png": "[encoded data removed]",
      "text/plain": [
       "<Figure size 432x288 with 1 Axes>"
      ]
     },
     "metadata": {
      "needs_background": "light"
     },
     "output_type": "display_data"
    }
   ],
   "source": [
    "x = np.linspace(0, 3, 100)\n",
    "y = stats.f(dof_male, dof_female).sf(x)\n",
    "plt.plot(x, y)\n",
    "p = stats.f(dof_male, dof_female).sf(f)\n",
    "pos = f\"({str(np.round(f,3))}, {str(np.round(p,3))})\"\n",
    "plt.scatter([f], [p], label=pos)\n",
    "plt.text(f, p, pos)\n",
    "p"
   ]
  },
  {
   "cell_type": "markdown",
   "id": "6d24bac6",
   "metadata": {},
   "source": [
    "## t test (related dataset)"
   ]
  },
  {
   "cell_type": "code",
   "execution_count": 31,
   "id": "5c196ae5",
   "metadata": {},
   "outputs": [],
   "source": [
    "path = \"./blood_pressure.csv\""
   ]
  },
  {
   "cell_type": "code",
   "execution_count": 32,
   "id": "c25bb5a8",
   "metadata": {},
   "outputs": [],
   "source": [
    "bp_df = pd.read_csv(path)"
   ]
  },
  {
   "cell_type": "code",
   "execution_count": 33,
   "id": "562c481c",
   "metadata": {},
   "outputs": [
    {
     "data": {
      "text/plain": [
       "Ttest_relResult(statistic=3.3371870510833657, pvalue=0.0005648957322420411)"
      ]
     },
     "execution_count": 33,
     "metadata": {},
     "output_type": "execute_result"
    }
   ],
   "source": [
    "stats.ttest_rel(bp_df[\"bp_before\"], bp_df[\"bp_after\"], alternative=\"greater\")"
   ]
  },
  {
   "cell_type": "code",
   "execution_count": 34,
   "id": "e0805840",
   "metadata": {},
   "outputs": [
    {
     "data": {
      "text/plain": [
       "156.45"
      ]
     },
     "execution_count": 34,
     "metadata": {},
     "output_type": "execute_result"
    }
   ],
   "source": [
    "bp_df[\"bp_before\"].mean()"
   ]
  },
  {
   "cell_type": "code",
   "execution_count": 35,
   "id": "43dadd5d",
   "metadata": {},
   "outputs": [
    {
     "data": {
      "text/plain": [
       "151.35833333333332"
      ]
     },
     "execution_count": 35,
     "metadata": {},
     "output_type": "execute_result"
    }
   ],
   "source": [
    "bp_df[\"bp_after\"].mean()"
   ]
  },
  {
   "cell_type": "code",
   "execution_count": 36,
   "id": "e881c03c",
   "metadata": {},
   "outputs": [],
   "source": [
    "bp_df[\"delta\"] = bp_df[\"bp_before\"] - bp_df[\"bp_after\"]"
   ]
  },
  {
   "cell_type": "code",
   "execution_count": 37,
   "id": "7da377ed",
   "metadata": {},
   "outputs": [
    {
     "data": {
      "text/plain": [
       "5.091666666666667"
      ]
     },
     "execution_count": 37,
     "metadata": {},
     "output_type": "execute_result"
    }
   ],
   "source": [
    "bp_df[\"delta\"].mean()"
   ]
  },
  {
   "cell_type": "code",
   "execution_count": 38,
   "id": "ec35871a",
   "metadata": {},
   "outputs": [
    {
     "name": "stderr",
     "output_type": "stream",
     "text": [
      "/usr/local/lib/python3.8/dist-packages/seaborn/_decorators.py:36: FutureWarning: Pass the following variable as a keyword arg: x. From version 0.12, the only valid positional argument will be `data`, and passing other arguments without an explicit keyword will result in an error or misinterpretation.\n",
      "  warnings.warn(\n"
     ]
    },
    {
     "data": {
      "text/plain": [
       "<matplotlib.axes._subplots.AxesSubplot at 0x7f06ce211250>"
      ]
     },
     "execution_count": 38,
     "metadata": {},
     "output_type": "execute_result"
    },
    {
     "data": {
      "image/png": "[encoded data removed]",
      "text/plain": [
       "<Figure size 432x288 with 1 Axes>"
      ]
     },
     "metadata": {
      "needs_background": "light"
     },
     "output_type": "display_data"
    }
   ],
   "source": [
    "sns.boxplot(bp_df[\"delta\"])"
   ]
  },
  {
   "cell_type": "markdown",
   "id": "2ccf090e",
   "metadata": {},
   "source": [
    "## Cohen's d"
   ]
  },
  {
   "cell_type": "code",
   "execution_count": 52,
   "id": "95a2e870",
   "metadata": {},
   "outputs": [],
   "source": [
    "def cohen_d(x, y):\n",
    "    meanx = np.mean(x)\n",
    "    meany = np.mean(y)\n",
    "    dfx = len(x) - 1\n",
    "    dfy = len(y) - 1\n",
    "    varx = stats.tvar(x)\n",
    "    vary = stats.tvar(y)\n",
    "    std = np.sqrt((dfx*varx+dfy*vary)/(dfx+dfy))\n",
    "    d = np.abs(meanx - meany) / std\n",
    "    return d"
   ]
  },
  {
   "cell_type": "code",
   "execution_count": 40,
   "id": "99cb3c7c",
   "metadata": {},
   "outputs": [],
   "source": [
    "x = df[df[\"sex\"]==\"Male\"][\"tip_rate\"]\n",
    "y = df[df[\"sex\"]==\"Female\"][\"tip_rate\"]"
   ]
  },
  {
   "cell_type": "code",
   "execution_count": 57,
   "id": "d24f4efc",
   "metadata": {},
   "outputs": [
    {
     "data": {
      "text/plain": [
       "0.14480153987269387"
      ]
     },
     "execution_count": 57,
     "metadata": {},
     "output_type": "execute_result"
    }
   ],
   "source": [
    "d = cohen_d(x, y)\n",
    "d"
   ]
  },
  {
   "cell_type": "markdown",
   "id": "fe424247",
   "metadata": {},
   "source": [
    "## Power Analysis"
   ]
  },
  {
   "cell_type": "code",
   "execution_count": 72,
   "id": "367efa9d",
   "metadata": {},
   "outputs": [
    {
     "data": {
      "text/plain": [
       "Ttest_indResult(statistic=-1.1432770167349968, pvalue=0.2542456188927583)"
      ]
     },
     "execution_count": 72,
     "metadata": {},
     "output_type": "execute_result"
    }
   ],
   "source": [
    "stats.ttest_ind(x, y, equal_var=False)"
   ]
  },
  {
   "cell_type": "code",
   "execution_count": 55,
   "id": "7f6330e9",
   "metadata": {},
   "outputs": [],
   "source": [
    "power = TTestIndPower()"
   ]
  },
  {
   "cell_type": "code",
   "execution_count": 61,
   "id": "6d52e5d4",
   "metadata": {},
   "outputs": [
    {
     "data": {
      "text/plain": [
       "0.19038260700802495"
      ]
     },
     "execution_count": 61,
     "metadata": {},
     "output_type": "execute_result"
    }
   ],
   "source": [
    "power.solve_power(d, len(x), 0.05, None, len(y)/len(x), \"two-sided\")"
   ]
  },
  {
   "cell_type": "code",
   "execution_count": 73,
   "id": "3640ef63",
   "metadata": {},
   "outputs": [
    {
     "data": {
      "text/plain": [
       "1051.0959553846437"
      ]
     },
     "execution_count": 73,
     "metadata": {},
     "output_type": "execute_result"
    }
   ],
   "source": [
    "power.solve_power(d, None, 0.05, 0.8, len(y)/len(x), \"two-sided\")"
   ]
  },
  {
   "cell_type": "code",
   "execution_count": 75,
   "id": "4dd25286",
   "metadata": {},
   "outputs": [
    {
     "data": {
      "text/plain": [
       "393.4056989990335"
      ]
     },
     "execution_count": 75,
     "metadata": {},
     "output_type": "execute_result"
    }
   ],
   "source": [
    "power.solve_power(0.2, None, 0.05, 0.8, 1.0, \"two-sided\")"
   ]
  },
  {
   "cell_type": "code",
   "execution_count": 83,
   "id": "8da9039f",
   "metadata": {},
   "outputs": [
    {
     "data": {
      "image/png": "[encoded data removed]",
      "text/plain": [
       "<Figure size 432x288 with 1 Axes>"
      ]
     },
     "metadata": {
      "needs_background": "light"
     },
     "output_type": "display_data"
    }
   ],
   "source": [
    "sample_size = np.arange(5, 101)\n",
    "fig = power.plot_power(\"nobs\", sample_size, [0.2, 0.5, 0.8], 0.05)"
   ]
  },
  {
   "cell_type": "code",
   "execution_count": null,
   "id": "f873bd4c",
   "metadata": {},
   "outputs": [],
   "source": []
  }
 ],
 "metadata": {
  "kernelspec": {
   "display_name": "Python 3 (ipykernel)",
   "language": "python",
   "name": "python3"
  },
  "language_info": {
   "codemirror_mode": {
    "name": "ipython",
    "version": 3
   },
   "file_extension": ".py",
   "mimetype": "text/x-python",
   "name": "python",
   "nbconvert_exporter": "python",
   "pygments_lexer": "ipython3",
   "version": "3.8.10"
  }
 },
 "nbformat": 4,
 "nbformat_minor": 5
}

{
 "cells": [
  {
   "cell_type": "code",
   "execution_count": 1,
   "id": "ccb1350a",
   "metadata": {},
   "outputs": [],
   "source": [
    "import seaborn as sns\n",
    "import numpy as np\n",
    "from scipy import stats\n",
    "import matplotlib.pyplot as plt\n",
    "import pandas as pd\n",
    "from sklearn.preprocessing import StandardScaler "
   ]
  },
  {
   "cell_type": "markdown",
   "id": "2d632e56",
   "metadata": {},
   "source": [
    "## Data Preparation"
   ]
  },
  {
   "cell_type": "code",
   "execution_count": 2,
   "id": "954f0384",
   "metadata": {},
   "outputs": [
    {
     "data": {
      "text/html": [
       "<div>\n",
       "<style scoped>\n",
       "    .dataframe tbody tr th:only-of-type {\n",
       "        vertical-align: middle;\n",
       "    }\n",
       "\n",
       "    .dataframe tbody tr th {\n",
       "        vertical-align: top;\n",
       "    }\n",
       "\n",
       "    .dataframe thead th {\n",
       "        text-align: right;\n",
       "    }\n",
       "</style>\n",
       "<table border=\"1\" class=\"dataframe\">\n",
       "  <thead>\n",
       "    <tr style=\"text-align: right;\">\n",
       "      <th></th>\n",
       "      <th>total_bill</th>\n",
       "      <th>tip</th>\n",
       "      <th>sex</th>\n",
       "      <th>smoker</th>\n",
       "      <th>day</th>\n",
       "      <th>time</th>\n",
       "      <th>size</th>\n",
       "      <th>tip_rate</th>\n",
       "    </tr>\n",
       "  </thead>\n",
       "  <tbody>\n",
       "    <tr>\n",
       "      <th>0</th>\n",
       "      <td>16.99</td>\n",
       "      <td>1.01</td>\n",
       "      <td>Female</td>\n",
       "      <td>No</td>\n",
       "      <td>Sun</td>\n",
       "      <td>Dinner</td>\n",
       "      <td>2</td>\n",
       "      <td>0.059447</td>\n",
       "    </tr>\n",
       "    <tr>\n",
       "      <th>1</th>\n",
       "      <td>10.34</td>\n",
       "      <td>1.66</td>\n",
       "      <td>Male</td>\n",
       "      <td>No</td>\n",
       "      <td>Sun</td>\n",
       "      <td>Dinner</td>\n",
       "      <td>3</td>\n",
       "      <td>0.160542</td>\n",
       "    </tr>\n",
       "    <tr>\n",
       "      <th>2</th>\n",
       "      <td>21.01</td>\n",
       "      <td>3.50</td>\n",
       "      <td>Male</td>\n",
       "      <td>No</td>\n",
       "      <td>Sun</td>\n",
       "      <td>Dinner</td>\n",
       "      <td>3</td>\n",
       "      <td>0.166587</td>\n",
       "    </tr>\n",
       "    <tr>\n",
       "      <th>3</th>\n",
       "      <td>23.68</td>\n",
       "      <td>3.31</td>\n",
       "      <td>Male</td>\n",
       "      <td>No</td>\n",
       "      <td>Sun</td>\n",
       "      <td>Dinner</td>\n",
       "      <td>2</td>\n",
       "      <td>0.139780</td>\n",
       "    </tr>\n",
       "    <tr>\n",
       "      <th>4</th>\n",
       "      <td>24.59</td>\n",
       "      <td>3.61</td>\n",
       "      <td>Female</td>\n",
       "      <td>No</td>\n",
       "      <td>Sun</td>\n",
       "      <td>Dinner</td>\n",
       "      <td>4</td>\n",
       "      <td>0.146808</td>\n",
       "    </tr>\n",
       "    <tr>\n",
       "      <th>...</th>\n",
       "      <td>...</td>\n",
       "      <td>...</td>\n",
       "      <td>...</td>\n",
       "      <td>...</td>\n",
       "      <td>...</td>\n",
       "      <td>...</td>\n",
       "      <td>...</td>\n",
       "      <td>...</td>\n",
       "    </tr>\n",
       "    <tr>\n",
       "      <th>239</th>\n",
       "      <td>29.03</td>\n",
       "      <td>5.92</td>\n",
       "      <td>Male</td>\n",
       "      <td>No</td>\n",
       "      <td>Sat</td>\n",
       "      <td>Dinner</td>\n",
       "      <td>3</td>\n",
       "      <td>0.203927</td>\n",
       "    </tr>\n",
       "    <tr>\n",
       "      <th>240</th>\n",
       "      <td>27.18</td>\n",
       "      <td>2.00</td>\n",
       "      <td>Female</td>\n",
       "      <td>Yes</td>\n",
       "      <td>Sat</td>\n",
       "      <td>Dinner</td>\n",
       "      <td>2</td>\n",
       "      <td>0.073584</td>\n",
       "    </tr>\n",
       "    <tr>\n",
       "      <th>241</th>\n",
       "      <td>22.67</td>\n",
       "      <td>2.00</td>\n",
       "      <td>Male</td>\n",
       "      <td>Yes</td>\n",
       "      <td>Sat</td>\n",
       "      <td>Dinner</td>\n",
       "      <td>2</td>\n",
       "      <td>0.088222</td>\n",
       "    </tr>\n",
       "    <tr>\n",
       "      <th>242</th>\n",
       "      <td>17.82</td>\n",
       "      <td>1.75</td>\n",
       "      <td>Male</td>\n",
       "      <td>No</td>\n",
       "      <td>Sat</td>\n",
       "      <td>Dinner</td>\n",
       "      <td>2</td>\n",
       "      <td>0.098204</td>\n",
       "    </tr>\n",
       "    <tr>\n",
       "      <th>243</th>\n",
       "      <td>18.78</td>\n",
       "      <td>3.00</td>\n",
       "      <td>Female</td>\n",
       "      <td>No</td>\n",
       "      <td>Thur</td>\n",
       "      <td>Dinner</td>\n",
       "      <td>2</td>\n",
       "      <td>0.159744</td>\n",
       "    </tr>\n",
       "  </tbody>\n",
       "</table>\n",
       "<p>244 rows × 8 columns</p>\n",
       "</div>"
      ],
      "text/plain": [
       "     total_bill   tip     sex smoker   day    time  size  tip_rate\n",
       "0         16.99  1.01  Female     No   Sun  Dinner     2  0.059447\n",
       "1         10.34  1.66    Male     No   Sun  Dinner     3  0.160542\n",
       "2         21.01  3.50    Male     No   Sun  Dinner     3  0.166587\n",
       "3         23.68  3.31    Male     No   Sun  Dinner     2  0.139780\n",
       "4         24.59  3.61  Female     No   Sun  Dinner     4  0.146808\n",
       "..          ...   ...     ...    ...   ...     ...   ...       ...\n",
       "239       29.03  5.92    Male     No   Sat  Dinner     3  0.203927\n",
       "240       27.18  2.00  Female    Yes   Sat  Dinner     2  0.073584\n",
       "241       22.67  2.00    Male    Yes   Sat  Dinner     2  0.088222\n",
       "242       17.82  1.75    Male     No   Sat  Dinner     2  0.098204\n",
       "243       18.78  3.00  Female     No  Thur  Dinner     2  0.159744\n",
       "\n",
       "[244 rows x 8 columns]"
      ]
     },
     "execution_count": 2,
     "metadata": {},
     "output_type": "execute_result"
    }
   ],
   "source": [
    "df = sns.load_dataset(\"tips\")\n",
    "df[\"tip_rate\"] = df[\"tip\"] / df[\"total_bill\"]\n",
    "df"
   ]
  },
  {
   "cell_type": "markdown",
   "id": "9cea36a5",
   "metadata": {},
   "source": [
    "## Sample Distribution"
   ]
  },
  {
   "cell_type": "code",
   "execution_count": 46,
   "id": "06091725",
   "metadata": {},
   "outputs": [
    {
     "name": "stdout",
     "output_type": "stream",
     "text": [
      "mean 2.99827868852459\n",
      "var 1.9066085124966412\n",
      "var / n 0.038132170249932824\n"
     ]
    }
   ],
   "source": [
    "n = 50\n",
    "iteration = 1000\n",
    "column = \"tip\"\n",
    "mean_list = []\n",
    "for i in range(iteration):\n",
    "    samples = df[column].sample(n)\n",
    "    mean_list.append(samples.mean())\n",
    "print(\"mean\", np.mean(df[column]))\n",
    "print(\"var\", np.var(df[column]))\n",
    "print(\"var / n\", np.var(df[column])/n)"
   ]
  },
  {
   "cell_type": "code",
   "execution_count": 47,
   "id": "2daa2908",
   "metadata": {},
   "outputs": [
    {
     "name": "stdout",
     "output_type": "stream",
     "text": [
      "2.9995852000000003\n",
      "0.029789803220960004\n"
     ]
    },
    {
     "data": {
      "image/png": "[encoded data removed]",
      "text/plain": [
       "<Figure size 360x360 with 1 Axes>"
      ]
     },
     "metadata": {
      "needs_background": "light"
     },
     "output_type": "display_data"
    }
   ],
   "source": [
    "sns.displot(mean_list, kde=True)\n",
    "print(np.mean(mean_list))\n",
    "print(np.var(mean_list))"
   ]
  },
  {
   "cell_type": "code",
   "execution_count": 64,
   "id": "06dbbd22",
   "metadata": {},
   "outputs": [],
   "source": [
    "n = 1000\n",
    "x = 2*np.random.randn(n) + 5\n",
    "y = np.random.randn(n)\n",
    "z = np.concatenate((x, y))"
   ]
  },
  {
   "cell_type": "code",
   "execution_count": 82,
   "id": "22bbe8e8",
   "metadata": {},
   "outputs": [],
   "source": [
    "kde = stats.gaussian_kde(z)"
   ]
  },
  {
   "cell_type": "code",
   "execution_count": 92,
   "id": "403a0f3f",
   "metadata": {},
   "outputs": [
    {
     "data": {
      "text/plain": [
       "2.535325499793993"
      ]
     },
     "execution_count": 92,
     "metadata": {},
     "output_type": "execute_result"
    }
   ],
   "source": [
    "z.mean()"
   ]
  },
  {
   "cell_type": "code",
   "execution_count": 87,
   "id": "19e72634",
   "metadata": {},
   "outputs": [],
   "source": [
    "n = 100\n",
    "iteration = 10000\n",
    "mean_list = []\n",
    "for i in range(iteration):\n",
    "    samples = kde.resample(n)\n",
    "    mean_list.append(np.mean(samples))"
   ]
  },
  {
   "cell_type": "code",
   "execution_count": 90,
   "id": "271898c7",
   "metadata": {},
   "outputs": [
    {
     "data": {
      "text/plain": [
       "2.5342100858777497"
      ]
     },
     "execution_count": 90,
     "metadata": {},
     "output_type": "execute_result"
    }
   ],
   "source": [
    "np.mean(mean_list)\n",
    "sns.displot(mean_list)"
   ]
  },
  {
   "cell_type": "markdown",
   "id": "8949b854",
   "metadata": {},
   "source": [
    "## Unbiased Variance"
   ]
  },
  {
   "cell_type": "code",
   "execution_count": 93,
   "id": "cecac225",
   "metadata": {},
   "outputs": [
    {
     "data": {
      "text/plain": [
       "1.914454638062471"
      ]
     },
     "execution_count": 93,
     "metadata": {},
     "output_type": "execute_result"
    }
   ],
   "source": [
    "stats.tvar(df[\"tip\"])"
   ]
  },
  {
   "cell_type": "code",
   "execution_count": 96,
   "id": "6ad9f3b4",
   "metadata": {},
   "outputs": [
    {
     "data": {
      "text/plain": [
       "1.3836381890011822"
      ]
     },
     "execution_count": 96,
     "metadata": {},
     "output_type": "execute_result"
    }
   ],
   "source": [
    "np.sqrt(np.var(df[\"tip\"], ddof=1))"
   ]
  },
  {
   "cell_type": "code",
   "execution_count": 97,
   "id": "7b7db1c0",
   "metadata": {},
   "outputs": [
    {
     "data": {
      "text/plain": [
       "1.3836381890011822"
      ]
     },
     "execution_count": 97,
     "metadata": {},
     "output_type": "execute_result"
    }
   ],
   "source": [
    "stats.tstd(df[\"tip\"])"
   ]
  },
  {
   "cell_type": "markdown",
   "id": "474cfa83",
   "metadata": {},
   "source": [
    "## Unbiasedness of unbiased variance"
   ]
  },
  {
   "cell_type": "code",
   "execution_count": 112,
   "id": "64a3b097",
   "metadata": {},
   "outputs": [
    {
     "name": "stdout",
     "output_type": "stream",
     "text": [
      "mean 2.99827868852459\n",
      "var 1.9066085124966412\n"
     ]
    }
   ],
   "source": [
    "n = 50\n",
    "iteration = 10000\n",
    "column = \"tip\"\n",
    "var_list = []\n",
    "tvar_list = []\n",
    "for i in range(iteration):\n",
    "    samples = df[column].sample(n)\n",
    "    var_list.append(np.var(samples))\n",
    "    tvar_list.append(stats.tvar(samples))\n",
    "print(\"mean\", np.mean(df[column]))\n",
    "print(\"var\", np.var(df[column]))"
   ]
  },
  {
   "cell_type": "code",
   "execution_count": 113,
   "id": "42364edb",
   "metadata": {},
   "outputs": [
    {
     "name": "stdout",
     "output_type": "stream",
     "text": [
      "1.9161362991673472\n"
     ]
    },
    {
     "data": {
      "image/png": "[encoded data removed]",
      "text/plain": [
       "<Figure size 360x360 with 1 Axes>"
      ]
     },
     "metadata": {
      "needs_background": "light"
     },
     "output_type": "display_data"
    }
   ],
   "source": [
    "sns.displot(tvar_list, kde=True)\n",
    "print(np.mean(tvar_list))"
   ]
  },
  {
   "cell_type": "code",
   "execution_count": 114,
   "id": "8d28c94b",
   "metadata": {},
   "outputs": [
    {
     "name": "stdout",
     "output_type": "stream",
     "text": [
      "1.877813573184\n"
     ]
    },
    {
     "data": {
      "image/png": "[encoded data removed]",
      "text/plain": [
       "<Figure size 360x360 with 1 Axes>"
      ]
     },
     "metadata": {
      "needs_background": "light"
     },
     "output_type": "display_data"
    }
   ],
   "source": [
    "sns.displot(var_list, kde=True)\n",
    "print(np.mean(var_list))"
   ]
  },
  {
   "cell_type": "markdown",
   "id": "84895655",
   "metadata": {},
   "source": [
    "## Interval Estimation (ratio)"
   ]
  },
  {
   "cell_type": "code",
   "execution_count": 183,
   "id": "438483e3",
   "metadata": {},
   "outputs": [
    {
     "data": {
      "text/plain": [
       "0.95"
      ]
     },
     "execution_count": 183,
     "metadata": {},
     "output_type": "execute_result"
    }
   ],
   "source": [
    "n = 50\n",
    "iteration = 100\n",
    "column = \"sex\"\n",
    "value = \"Male\"\n",
    "alpha = 0.95\n",
    "\n",
    "population_ratio = (df[column]==value).sum()/df.shape[0]\n",
    "results = []\n",
    "for _ in range(iteration):\n",
    "    samples = df[column].sample(n)\n",
    "    sample_ratio = (samples==value).sum()/n\n",
    "    min_num, max_num = stats.binom.interval(alpha, n, sample_ratio)\n",
    "    min_ratio = min_num / n\n",
    "    max_ratio = max_num / n\n",
    "    correct = min_ratio < population_ratio < max_ratio\n",
    "    results.append({\"min\": min_ratio, \"max\":max_ratio, \"correct\":correct})\n",
    "result_df = pd.DataFrame(results)\n",
    "result_df[\"correct\"].value_counts()[1]/iteration"
   ]
  },
  {
   "cell_type": "markdown",
   "id": "c756c144",
   "metadata": {},
   "source": [
    "## Interval Estimation (mean)"
   ]
  },
  {
   "cell_type": "code",
   "execution_count": 218,
   "id": "9380d9e5",
   "metadata": {},
   "outputs": [
    {
     "data": {
      "text/plain": [
       "True     95\n",
       "False     5\n",
       "Name: correct, dtype: int64"
      ]
     },
     "execution_count": 218,
     "metadata": {},
     "output_type": "execute_result"
    }
   ],
   "source": [
    "n = 50\n",
    "iteration = 100\n",
    "column = \"tip\"\n",
    "alpha = 0.95\n",
    "\n",
    "population_mean = df[column].mean()\n",
    "results = []\n",
    "for _ in range(iteration):\n",
    "    samples = df[column].sample(n)\n",
    "    sample_mean = samples.mean()\n",
    "    sample_tvar = stats.tvar(samples)\n",
    "    min_mean, max_mean = stats.norm.interval(alpha, sample_mean, np.sqrt(sample_tvar/n))\n",
    "    correct = min_mean < population_mean < max_mean\n",
    "    results.append({\"min\": min_mean, \"max\":max_mean, \"correct\":correct})\n",
    "result_df = pd.DataFrame(results)\n",
    "# result_df[\"correct\"].value_counts()[1]/iteration\n",
    "result_df[\"correct\"].value_counts()"
   ]
  },
  {
   "cell_type": "markdown",
   "id": "61954b97",
   "metadata": {},
   "source": [
    "## t distribution"
   ]
  },
  {
   "cell_type": "code",
   "execution_count": 236,
   "id": "75e9c507",
   "metadata": {},
   "outputs": [
    {
     "data": {
      "text/plain": [
       "<matplotlib.legend.Legend at 0x7fe5d8d921f0>"
      ]
     },
     "execution_count": 236,
     "metadata": {},
     "output_type": "execute_result"
    },
    {
     "data": {
      "image/png": "[encoded data removed]",
      "text/plain": [
       "<Figure size 432x288 with 1 Axes>"
      ]
     },
     "metadata": {
      "needs_background": "light"
     },
     "output_type": "display_data"
    }
   ],
   "source": [
    "x = np.linspace(-3, 3, 100)\n",
    "z = stats.norm.pdf(x)\n",
    "for dof in range(1, 12, 5):\n",
    "    t = stats.t(dof).pdf(x)\n",
    "    plt.plot(x, t, label=f\"t dist(dof={dof})\")\n",
    "plt.plot(x, z, label=\"std norm\", linewidth=3)\n",
    "plt.legend()"
   ]
  },
  {
   "cell_type": "markdown",
   "id": "ebaca7cc",
   "metadata": {},
   "source": [
    "## Interval Estimation (mean) (std norm vs. t distribution)"
   ]
  },
  {
   "cell_type": "code",
   "execution_count": 247,
   "id": "ddc1aaf2",
   "metadata": {},
   "outputs": [
    {
     "data": {
      "text/plain": [
       "2.885"
      ]
     },
     "execution_count": 247,
     "metadata": {},
     "output_type": "execute_result"
    }
   ],
   "source": [
    "sample_mean"
   ]
  },
  {
   "cell_type": "code",
   "execution_count": 250,
   "id": "d06dea51",
   "metadata": {},
   "outputs": [
    {
     "name": "stdout",
     "output_type": "stream",
     "text": [
      "2.6444663322909188 3.3351336677090826\n",
      "2.6357251334527194 3.343874866547282\n"
     ]
    }
   ],
   "source": [
    "n = 50\n",
    "iteration = 100\n",
    "column = \"tip\"\n",
    "alpha = 0.95\n",
    "\n",
    "population_mean = df[column].mean()\n",
    "samples = df[column].sample(n)\n",
    "sample_mean = samples.mean()\n",
    "sample_tvar = stats.tvar(samples)\n",
    "min_val_norm, max_val_norm = stats.norm.interval(alpha, loc=sample_mean, scale=np.sqrt(sample_tvar/n))\n",
    "min_val_t, max_val_t = stats.t.interval(alpha, loc=sample_mean, scale=np.sqrt(sample_tvar/n), df=n-1)\n",
    "print(min_val_norm, max_val_norm)\n",
    "print(min_val_t, max_val_t)"
   ]
  }
 ],
 "metadata": {
  "kernelspec": {
   "display_name": "Python 3 (ipykernel)",
   "language": "python",
   "name": "python3"
  },
  "language_info": {
   "codemirror_mode": {
    "name": "ipython",
    "version": 3
   },
   "file_extension": ".py",
   "mimetype": "text/x-python",
   "name": "python",
   "nbconvert_exporter": "python",
   "pygments_lexer": "ipython3",
   "version": "3.8.10"
  }
 },
 "nbformat": 4,
 "nbformat_minor": 5
}

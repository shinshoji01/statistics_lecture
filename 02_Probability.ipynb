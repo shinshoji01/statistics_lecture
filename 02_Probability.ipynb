{
 "cells": [
  {
   "cell_type": "code",
   "execution_count": 61,
   "id": "40b1ebea",
   "metadata": {},
   "outputs": [],
   "source": [
    "import seaborn as sns\n",
    "import numpy as np\n",
    "from scipy import stats\n",
    "import matplotlib.pyplot as plt\n",
    "import pandas as pd\n",
    "from sklearn.preprocessing import StandardScaler "
   ]
  },
  {
   "cell_type": "markdown",
   "id": "a2e0a08a",
   "metadata": {},
   "source": [
    "## Data Preparation"
   ]
  },
  {
   "cell_type": "code",
   "execution_count": 2,
   "id": "f78616e0",
   "metadata": {},
   "outputs": [
    {
     "data": {
      "text/html": [
       "<div>\n",
       "<style scoped>\n",
       "    .dataframe tbody tr th:only-of-type {\n",
       "        vertical-align: middle;\n",
       "    }\n",
       "\n",
       "    .dataframe tbody tr th {\n",
       "        vertical-align: top;\n",
       "    }\n",
       "\n",
       "    .dataframe thead th {\n",
       "        text-align: right;\n",
       "    }\n",
       "</style>\n",
       "<table border=\"1\" class=\"dataframe\">\n",
       "  <thead>\n",
       "    <tr style=\"text-align: right;\">\n",
       "      <th></th>\n",
       "      <th>total_bill</th>\n",
       "      <th>tip</th>\n",
       "      <th>sex</th>\n",
       "      <th>smoker</th>\n",
       "      <th>day</th>\n",
       "      <th>time</th>\n",
       "      <th>size</th>\n",
       "      <th>tip_rate</th>\n",
       "    </tr>\n",
       "  </thead>\n",
       "  <tbody>\n",
       "    <tr>\n",
       "      <th>0</th>\n",
       "      <td>16.99</td>\n",
       "      <td>1.01</td>\n",
       "      <td>Female</td>\n",
       "      <td>No</td>\n",
       "      <td>Sun</td>\n",
       "      <td>Dinner</td>\n",
       "      <td>2</td>\n",
       "      <td>0.059447</td>\n",
       "    </tr>\n",
       "    <tr>\n",
       "      <th>1</th>\n",
       "      <td>10.34</td>\n",
       "      <td>1.66</td>\n",
       "      <td>Male</td>\n",
       "      <td>No</td>\n",
       "      <td>Sun</td>\n",
       "      <td>Dinner</td>\n",
       "      <td>3</td>\n",
       "      <td>0.160542</td>\n",
       "    </tr>\n",
       "    <tr>\n",
       "      <th>2</th>\n",
       "      <td>21.01</td>\n",
       "      <td>3.50</td>\n",
       "      <td>Male</td>\n",
       "      <td>No</td>\n",
       "      <td>Sun</td>\n",
       "      <td>Dinner</td>\n",
       "      <td>3</td>\n",
       "      <td>0.166587</td>\n",
       "    </tr>\n",
       "    <tr>\n",
       "      <th>3</th>\n",
       "      <td>23.68</td>\n",
       "      <td>3.31</td>\n",
       "      <td>Male</td>\n",
       "      <td>No</td>\n",
       "      <td>Sun</td>\n",
       "      <td>Dinner</td>\n",
       "      <td>2</td>\n",
       "      <td>0.139780</td>\n",
       "    </tr>\n",
       "    <tr>\n",
       "      <th>4</th>\n",
       "      <td>24.59</td>\n",
       "      <td>3.61</td>\n",
       "      <td>Female</td>\n",
       "      <td>No</td>\n",
       "      <td>Sun</td>\n",
       "      <td>Dinner</td>\n",
       "      <td>4</td>\n",
       "      <td>0.146808</td>\n",
       "    </tr>\n",
       "    <tr>\n",
       "      <th>...</th>\n",
       "      <td>...</td>\n",
       "      <td>...</td>\n",
       "      <td>...</td>\n",
       "      <td>...</td>\n",
       "      <td>...</td>\n",
       "      <td>...</td>\n",
       "      <td>...</td>\n",
       "      <td>...</td>\n",
       "    </tr>\n",
       "    <tr>\n",
       "      <th>239</th>\n",
       "      <td>29.03</td>\n",
       "      <td>5.92</td>\n",
       "      <td>Male</td>\n",
       "      <td>No</td>\n",
       "      <td>Sat</td>\n",
       "      <td>Dinner</td>\n",
       "      <td>3</td>\n",
       "      <td>0.203927</td>\n",
       "    </tr>\n",
       "    <tr>\n",
       "      <th>240</th>\n",
       "      <td>27.18</td>\n",
       "      <td>2.00</td>\n",
       "      <td>Female</td>\n",
       "      <td>Yes</td>\n",
       "      <td>Sat</td>\n",
       "      <td>Dinner</td>\n",
       "      <td>2</td>\n",
       "      <td>0.073584</td>\n",
       "    </tr>\n",
       "    <tr>\n",
       "      <th>241</th>\n",
       "      <td>22.67</td>\n",
       "      <td>2.00</td>\n",
       "      <td>Male</td>\n",
       "      <td>Yes</td>\n",
       "      <td>Sat</td>\n",
       "      <td>Dinner</td>\n",
       "      <td>2</td>\n",
       "      <td>0.088222</td>\n",
       "    </tr>\n",
       "    <tr>\n",
       "      <th>242</th>\n",
       "      <td>17.82</td>\n",
       "      <td>1.75</td>\n",
       "      <td>Male</td>\n",
       "      <td>No</td>\n",
       "      <td>Sat</td>\n",
       "      <td>Dinner</td>\n",
       "      <td>2</td>\n",
       "      <td>0.098204</td>\n",
       "    </tr>\n",
       "    <tr>\n",
       "      <th>243</th>\n",
       "      <td>18.78</td>\n",
       "      <td>3.00</td>\n",
       "      <td>Female</td>\n",
       "      <td>No</td>\n",
       "      <td>Thur</td>\n",
       "      <td>Dinner</td>\n",
       "      <td>2</td>\n",
       "      <td>0.159744</td>\n",
       "    </tr>\n",
       "  </tbody>\n",
       "</table>\n",
       "<p>244 rows × 8 columns</p>\n",
       "</div>"
      ],
      "text/plain": [
       "     total_bill   tip     sex smoker   day    time  size  tip_rate\n",
       "0         16.99  1.01  Female     No   Sun  Dinner     2  0.059447\n",
       "1         10.34  1.66    Male     No   Sun  Dinner     3  0.160542\n",
       "2         21.01  3.50    Male     No   Sun  Dinner     3  0.166587\n",
       "3         23.68  3.31    Male     No   Sun  Dinner     2  0.139780\n",
       "4         24.59  3.61  Female     No   Sun  Dinner     4  0.146808\n",
       "..          ...   ...     ...    ...   ...     ...   ...       ...\n",
       "239       29.03  5.92    Male     No   Sat  Dinner     3  0.203927\n",
       "240       27.18  2.00  Female    Yes   Sat  Dinner     2  0.073584\n",
       "241       22.67  2.00    Male    Yes   Sat  Dinner     2  0.088222\n",
       "242       17.82  1.75    Male     No   Sat  Dinner     2  0.098204\n",
       "243       18.78  3.00  Female     No  Thur  Dinner     2  0.159744\n",
       "\n",
       "[244 rows x 8 columns]"
      ]
     },
     "execution_count": 2,
     "metadata": {},
     "output_type": "execute_result"
    }
   ],
   "source": [
    "df = sns.load_dataset(\"tips\")\n",
    "df[\"tip_rate\"] = df[\"tip\"] / df[\"total_bill\"]\n",
    "df"
   ]
  },
  {
   "cell_type": "markdown",
   "id": "146175e8",
   "metadata": {},
   "source": [
    "## Random Distribution"
   ]
  },
  {
   "cell_type": "code",
   "execution_count": 3,
   "id": "986f39f7",
   "metadata": {},
   "outputs": [
    {
     "data": {
      "text/plain": [
       "3"
      ]
     },
     "execution_count": 3,
     "metadata": {},
     "output_type": "execute_result"
    }
   ],
   "source": [
    "# random variates: 確率変量\n",
    "stats.randint(1, 7).rvs()"
   ]
  },
  {
   "cell_type": "code",
   "execution_count": 4,
   "id": "2ecad442",
   "metadata": {},
   "outputs": [
    {
     "data": {
      "text/plain": [
       "0.5442203351571927"
      ]
     },
     "execution_count": 4,
     "metadata": {},
     "output_type": "execute_result"
    }
   ],
   "source": [
    "stats.uniform(0, 1).rvs()"
   ]
  },
  {
   "cell_type": "markdown",
   "id": "737cb382",
   "metadata": {},
   "source": [
    "## Visualization of PMF and PDF"
   ]
  },
  {
   "cell_type": "code",
   "execution_count": 5,
   "id": "e37801e1",
   "metadata": {},
   "outputs": [],
   "source": [
    "def simple_func(x):\n",
    "    y = x**2 + 3\n",
    "    return y"
   ]
  },
  {
   "cell_type": "code",
   "execution_count": 6,
   "id": "10efc712",
   "metadata": {},
   "outputs": [
    {
     "data": {
      "text/plain": [
       "103"
      ]
     },
     "execution_count": 6,
     "metadata": {},
     "output_type": "execute_result"
    }
   ],
   "source": [
    "simple_func(10)"
   ]
  },
  {
   "cell_type": "code",
   "execution_count": 7,
   "id": "e8d55dde",
   "metadata": {},
   "outputs": [],
   "source": [
    "# x = np.linspace(-3, 3, 100)\n",
    "x = np.arange(-3, 4)\n",
    "y = simple_func(x)"
   ]
  },
  {
   "cell_type": "code",
   "execution_count": 8,
   "id": "71247910",
   "metadata": {},
   "outputs": [
    {
     "data": {
      "text/plain": [
       "[<matplotlib.lines.Line2D at 0x7f1a3a8f4d90>]"
      ]
     },
     "execution_count": 8,
     "metadata": {},
     "output_type": "execute_result"
    },
    {
     "data": {
      "image/png": "[encoded data removed]",
      "text/plain": [
       "<Figure size 432x288 with 1 Axes>"
      ]
     },
     "metadata": {
      "needs_background": "light"
     },
     "output_type": "display_data"
    }
   ],
   "source": [
    "plt.plot(x, y)"
   ]
  },
  {
   "cell_type": "code",
   "execution_count": 9,
   "id": "1412b809",
   "metadata": {},
   "outputs": [
    {
     "data": {
      "text/plain": [
       "<matplotlib.collections.LineCollection at 0x7f1a3a434f70>"
      ]
     },
     "execution_count": 9,
     "metadata": {},
     "output_type": "execute_result"
    },
    {
     "data": {
      "image/png": "[encoded data removed]",
      "text/plain": [
       "<Figure size 432x288 with 1 Axes>"
      ]
     },
     "metadata": {
      "needs_background": "light"
     },
     "output_type": "display_data"
    }
   ],
   "source": [
    "x = np.arange(1, 7)\n",
    "y = stats.randint(1, 7).pmf(x)\n",
    "plt.plot(x, y, \"o\")\n",
    "plt.vlines(x, 0, y)"
   ]
  },
  {
   "cell_type": "code",
   "execution_count": 10,
   "id": "0a5ae783",
   "metadata": {},
   "outputs": [],
   "source": [
    "x = np.linspace(-2, 2, 100)\n",
    "# y = stats.uniform(loc=-1, scale=2).pdf(x)\n",
    "y = stats.uniform(0, 1).pdf(x)"
   ]
  },
  {
   "cell_type": "code",
   "execution_count": 11,
   "id": "348496ed",
   "metadata": {},
   "outputs": [
    {
     "data": {
      "text/plain": [
       "[<matplotlib.lines.Line2D at 0x7f1a3a39fc70>]"
      ]
     },
     "execution_count": 11,
     "metadata": {},
     "output_type": "execute_result"
    },
    {
     "data": {
      "image/png": "[encoded data removed]",
      "text/plain": [
       "<Figure size 432x288 with 1 Axes>"
      ]
     },
     "metadata": {
      "needs_background": "light"
     },
     "output_type": "display_data"
    }
   ],
   "source": [
    "plt.plot(x, y)"
   ]
  },
  {
   "cell_type": "markdown",
   "id": "faa5787d",
   "metadata": {},
   "source": [
    "## Cumulative Distribution Function"
   ]
  },
  {
   "cell_type": "code",
   "execution_count": 12,
   "id": "07a0dbe5",
   "metadata": {},
   "outputs": [
    {
     "data": {
      "text/plain": [
       "[<matplotlib.lines.Line2D at 0x7f1a3a3823a0>]"
      ]
     },
     "execution_count": 12,
     "metadata": {},
     "output_type": "execute_result"
    },
    {
     "data": {
      "image/png": "[encoded data removed]",
      "text/plain": [
       "<Figure size 432x288 with 1 Axes>"
      ]
     },
     "metadata": {
      "needs_background": "light"
     },
     "output_type": "display_data"
    }
   ],
   "source": [
    "x = np.linspace(-3, 3, 100)\n",
    "y = stats.norm.pdf(x)\n",
    "plt.plot(x, y)"
   ]
  },
  {
   "cell_type": "code",
   "execution_count": 13,
   "id": "148e7948",
   "metadata": {},
   "outputs": [
    {
     "data": {
      "text/plain": [
       "[<matplotlib.lines.Line2D at 0x7f1a3a2dc490>]"
      ]
     },
     "execution_count": 13,
     "metadata": {},
     "output_type": "execute_result"
    },
    {
     "data": {
      "image/png": "[encoded data removed]",
      "text/plain": [
       "<Figure size 432x288 with 1 Axes>"
      ]
     },
     "metadata": {
      "needs_background": "light"
     },
     "output_type": "display_data"
    }
   ],
   "source": [
    "y = stats.norm.cdf(x)\n",
    "plt.plot(x, y)"
   ]
  },
  {
   "cell_type": "code",
   "execution_count": 14,
   "id": "bb3029b3",
   "metadata": {},
   "outputs": [
    {
     "data": {
      "text/plain": [
       "[<matplotlib.lines.Line2D at 0x7f1a3a2a8ee0>]"
      ]
     },
     "execution_count": 14,
     "metadata": {},
     "output_type": "execute_result"
    },
    {
     "data": {
      "image/png": "[encoded data removed]",
      "text/plain": [
       "<Figure size 432x288 with 1 Axes>"
      ]
     },
     "metadata": {
      "needs_background": "light"
     },
     "output_type": "display_data"
    }
   ],
   "source": [
    "y = stats.norm.sf(x)\n",
    "plt.plot(x, y)"
   ]
  },
  {
   "cell_type": "markdown",
   "id": "66d432d2",
   "metadata": {},
   "source": [
    "## Normal Distribution"
   ]
  },
  {
   "cell_type": "code",
   "execution_count": 15,
   "id": "38393d9d",
   "metadata": {},
   "outputs": [
    {
     "data": {
      "text/plain": [
       "[<matplotlib.lines.Line2D at 0x7f1a3a2112b0>]"
      ]
     },
     "execution_count": 15,
     "metadata": {},
     "output_type": "execute_result"
    },
    {
     "data": {
      "image/png": "[encoded data removed]",
      "text/plain": [
       "<Figure size 432x288 with 1 Axes>"
      ]
     },
     "metadata": {
      "needs_background": "light"
     },
     "output_type": "display_data"
    }
   ],
   "source": [
    "x = np.linspace(-5, 15, 100)\n",
    "y = stats.norm(loc=10, scale=3).pdf(x)\n",
    "y2 = stats.norm(loc=8, scale=3).pdf(x)\n",
    "y3 = stats.norm(loc=8, scale=1).pdf(x)\n",
    "plt.plot(x, y)\n",
    "plt.plot(x, y2)\n",
    "plt.plot(x, y3)"
   ]
  },
  {
   "cell_type": "code",
   "execution_count": 16,
   "id": "56384aa9",
   "metadata": {},
   "outputs": [
    {
     "data": {
      "text/plain": [
       "[<matplotlib.lines.Line2D at 0x7f1a3a1e8dc0>]"
      ]
     },
     "execution_count": 16,
     "metadata": {},
     "output_type": "execute_result"
    },
    {
     "data": {
      "image/png": "[encoded data removed]",
      "text/plain": [
       "<Figure size 432x288 with 1 Axes>"
      ]
     },
     "metadata": {
      "needs_background": "light"
     },
     "output_type": "display_data"
    }
   ],
   "source": [
    "x = np.linspace(-5, 15, 100)\n",
    "y = stats.norm().pdf(x)\n",
    "plt.plot(x, y)"
   ]
  },
  {
   "cell_type": "markdown",
   "id": "f3204c3a",
   "metadata": {},
   "source": [
    "## Kernel Density Estimation"
   ]
  },
  {
   "cell_type": "code",
   "execution_count": 17,
   "id": "264006bd",
   "metadata": {},
   "outputs": [
    {
     "data": {
      "text/plain": [
       "[<matplotlib.lines.Line2D at 0x7f1a3814e970>]"
      ]
     },
     "execution_count": 17,
     "metadata": {},
     "output_type": "execute_result"
    },
    {
     "data": {
      "image/png": "[encoded data removed]",
      "text/plain": [
       "<Figure size 432x288 with 1 Axes>"
      ]
     },
     "metadata": {
      "needs_background": "light"
     },
     "output_type": "display_data"
    }
   ],
   "source": [
    "x = np.linspace(-3, 10, 100)\n",
    "y = stats.gaussian_kde([1, 1, 2, 2, 3, 4, 5]).pdf(x)\n",
    "plt.plot(x, y)"
   ]
  },
  {
   "cell_type": "code",
   "execution_count": 18,
   "id": "5653d1c6",
   "metadata": {},
   "outputs": [
    {
     "data": {
      "text/plain": [
       "[<matplotlib.lines.Line2D at 0x7f1a3811d940>]"
      ]
     },
     "execution_count": 18,
     "metadata": {},
     "output_type": "execute_result"
    },
    {
     "data": {
      "image/png": "[encoded data removed]",
      "text/plain": [
       "<Figure size 432x288 with 1 Axes>"
      ]
     },
     "metadata": {
      "needs_background": "light"
     },
     "output_type": "display_data"
    }
   ],
   "source": [
    "y = stats.gaussian_kde(df[\"tip\"]).pdf(x)\n",
    "plt.plot(x, y)"
   ]
  },
  {
   "cell_type": "code",
   "execution_count": 19,
   "id": "fb346e24",
   "metadata": {},
   "outputs": [
    {
     "data": {
      "text/plain": [
       "<seaborn.axisgrid.FacetGrid at 0x7f1a381370a0>"
      ]
     },
     "execution_count": 19,
     "metadata": {},
     "output_type": "execute_result"
    },
    {
     "data": {
      "image/png": "[encoded data removed]",
      "text/plain": [
       "<Figure size 360x360 with 1 Axes>"
      ]
     },
     "metadata": {
      "needs_background": "light"
     },
     "output_type": "display_data"
    }
   ],
   "source": [
    "sns.displot(df[\"tip\"], kde=True)"
   ]
  },
  {
   "cell_type": "code",
   "execution_count": 55,
   "id": "75ee72c8",
   "metadata": {},
   "outputs": [
    {
     "data": {
      "text/plain": [
       "array([[2.00115615, 1.61704106, 2.04404446, 5.26820547, 1.72521249,\n",
       "        1.54482737, 0.94117852, 3.00288318, 1.56019605, 3.81304662,\n",
       "        3.19652672, 1.78612042, 0.71203959, 4.34762591, 2.87160929,\n",
       "        3.59057213, 4.61637266, 5.30647608, 2.85945706, 2.74527543,\n",
       "        4.34770962, 2.92304316, 2.03593351, 2.97899065, 4.79885943,\n",
       "        4.05044855, 3.61906576, 9.83289175, 2.4599109 , 2.62045605,\n",
       "        1.88424398, 2.7644461 , 2.38469123, 3.25265071, 2.04233218,\n",
       "        2.52416565, 4.79986897, 3.83206276, 4.02191916, 4.89967389,\n",
       "        4.47983105, 1.12565237, 5.80097893, 3.02310611, 2.27777156,\n",
       "        3.92165927, 3.13201985, 3.62648249, 2.29138676, 4.44980364,\n",
       "        2.9592247 , 2.61870451, 1.63994458, 1.44237569, 3.29317994,\n",
       "        3.73855461, 2.43772995, 3.37603734, 2.14253405, 4.94310511,\n",
       "        4.13217061, 3.16673386, 1.8352023 , 3.08441513, 1.12332124,\n",
       "        2.56863465, 3.80046252, 3.21657771, 1.70545423, 1.63289717,\n",
       "        2.17060228, 1.10079901, 1.74212525, 2.37170108, 1.49838382,\n",
       "        1.27904716, 2.68632129, 2.84112602, 1.56909302, 3.51419609,\n",
       "        1.42840235, 3.38608053, 1.49954289, 1.06815785, 4.29216029,\n",
       "        4.3575484 , 3.18151998, 1.61375956, 5.01653454, 5.75270419,\n",
       "        2.67174649, 7.04315177, 2.50238429, 4.26570203, 3.5046739 ,\n",
       "        3.09356872, 4.43957201, 1.0641106 , 2.86805184, 1.82724054,\n",
       "        2.09765968, 4.08114493, 7.40205957, 1.64862955, 2.80021637,\n",
       "        5.17934057, 5.3478371 , 1.40248162, 3.11066694, 1.69151329,\n",
       "        3.30481853, 2.25814503, 1.55814889, 1.79031739, 3.06536794,\n",
       "        5.89996078, 2.38449045, 2.07057048, 2.17629921, 3.54792345,\n",
       "        2.3230482 , 1.27706042, 1.96596605, 3.19492109, 2.20755178,\n",
       "        2.09775234, 2.08860389, 1.73900887, 2.60855077, 1.96610865,\n",
       "        3.19400488, 2.70169974, 2.32533554, 4.10747221, 1.67895939,\n",
       "        2.96043064, 2.18842352, 2.12083484, 4.37620883, 1.10613774,\n",
       "        2.69250548, 9.17777903, 6.00858703, 3.51189423, 1.76074938,\n",
       "        2.61835723, 5.95643231, 2.51197577, 2.62124422, 4.07988746,\n",
       "        2.96268604, 3.02983406, 2.29209889, 2.15527631, 2.12307601,\n",
       "        3.45293132, 4.09714091, 1.68231687, 1.3614232 , 4.31974522,\n",
       "        1.63452167, 3.47850766, 1.63450534, 3.5996686 , 2.58405121,\n",
       "        5.66048494, 7.62565485, 3.32866057, 4.10237031, 2.56140503,\n",
       "        2.59297806, 3.49290826, 2.60132696, 3.20337395, 2.40824284,\n",
       "        1.66491225, 0.88687001, 1.70427299, 3.333951  , 3.23316794,\n",
       "        4.78961945, 8.87393155, 1.15012533, 3.67554658, 1.56584063,\n",
       "        2.70966086, 2.75632719, 2.86091205, 6.89946413, 3.40271382,\n",
       "        3.56898662, 4.99774872, 2.30295319, 3.15603971, 3.1829675 ,\n",
       "        0.56947418, 2.48982184, 2.91750529, 0.02937272, 3.07523891,\n",
       "        6.69520024, 2.26788542, 5.70643932, 2.28619384, 2.71485411,\n",
       "        2.58357238, 1.94368248, 1.29457029, 3.79331281, 3.08768741,\n",
       "        1.79765201, 2.55784418, 1.63366681, 3.69346083, 2.16046708,\n",
       "        2.39367141, 2.42989727, 3.09423439, 1.97782117, 1.37164152,\n",
       "        3.32024542, 1.60208364, 2.9744239 , 5.07506591, 3.32950224,\n",
       "        1.97163086, 2.86968129, 2.60926219, 3.61087814, 2.88656355,\n",
       "        1.91477452, 1.98156315, 4.04664187, 4.25814393, 3.15114018,\n",
       "        2.46253308, 0.98949134, 2.0495824 , 1.81767557, 2.68485742,\n",
       "        4.30758925, 3.42948033, 2.65493824, 2.01599447]])"
      ]
     },
     "execution_count": 55,
     "metadata": {},
     "output_type": "execute_result"
    }
   ],
   "source": [
    "resample_data = stats.gaussian_kde(df[\"tip\"]).resample()\n",
    "resample_data"
   ]
  },
  {
   "cell_type": "markdown",
   "id": "b92f3d94",
   "metadata": {},
   "source": [
    "## 68-95-99.7 Rule"
   ]
  },
  {
   "cell_type": "code",
   "execution_count": 58,
   "id": "c7d355e3",
   "metadata": {},
   "outputs": [],
   "source": [
    "mu = 4\n",
    "sigma = 3\n",
    "samples = 10000\n",
    "x = stats.norm(loc=mu, scale=sigma).rvs(samples)"
   ]
  },
  {
   "cell_type": "code",
   "execution_count": 59,
   "id": "afbfe5d9",
   "metadata": {},
   "outputs": [
    {
     "data": {
      "text/plain": [
       "0.74868"
      ]
     },
     "execution_count": 59,
     "metadata": {},
     "output_type": "execute_result"
    }
   ],
   "source": [
    "num = 0\n",
    "num += sum(x[x>0]<(mu+sigma))\n",
    "num += sum(x[x<0]>(mu-sigma))\n",
    "num / samples"
   ]
  },
  {
   "cell_type": "code",
   "execution_count": 56,
   "id": "dc30286f",
   "metadata": {},
   "outputs": [
    {
     "data": {
      "text/plain": [
       "0.9564"
      ]
     },
     "execution_count": 56,
     "metadata": {},
     "output_type": "execute_result"
    }
   ],
   "source": [
    "num = 0\n",
    "num += sum(x[x>0]<(mu+2*sigma))\n",
    "num += sum(x[x<0]>(mu-2*sigma))\n",
    "num / samples"
   ]
  },
  {
   "cell_type": "code",
   "execution_count": 57,
   "id": "0c0abcc7",
   "metadata": {},
   "outputs": [
    {
     "data": {
      "text/plain": [
       "0.998"
      ]
     },
     "execution_count": 57,
     "metadata": {},
     "output_type": "execute_result"
    }
   ],
   "source": [
    "num = 0\n",
    "num += sum(x[x>0]<(mu+3*sigma))\n",
    "num += sum(x[x<0]>(mu-3*sigma))\n",
    "num / samples"
   ]
  },
  {
   "cell_type": "code",
   "execution_count": 53,
   "id": "c80b40fd",
   "metadata": {},
   "outputs": [],
   "source": [
    "mu = 4\n",
    "sigma = 3\n",
    "samples = 1000\n",
    "x = stats.norm(loc=mu, scale=sigma).rvs(samples)"
   ]
  },
  {
   "cell_type": "markdown",
   "id": "218029dc",
   "metadata": {},
   "source": [
    "## Standardization"
   ]
  },
  {
   "cell_type": "code",
   "execution_count": 62,
   "id": "1e1e5dfa",
   "metadata": {},
   "outputs": [],
   "source": [
    "scaler = StandardScaler()"
   ]
  },
  {
   "cell_type": "code",
   "execution_count": 72,
   "id": "3ca14d70",
   "metadata": {},
   "outputs": [],
   "source": [
    "x = df[\"tip_rate\"].values.reshape(-1, 1)\n",
    "x = df[\"tip_rate\"].values.reshape(-1, 1)\n",
    "scaled = scaler.fit_transform(x)"
   ]
  },
  {
   "cell_type": "code",
   "execution_count": 73,
   "id": "fbf3c642",
   "metadata": {},
   "outputs": [
    {
     "data": {
      "text/plain": [
       "array([[-3.14711305e-01, -1.66301817e+00],\n",
       "       [-1.06323531e+00, -4.28234299e-03],\n",
       "       [ 1.37779900e-01,  9.49146717e-02],\n",
       "       [ 4.38315103e-01, -3.44925940e-01],\n",
       "       [ 5.40744704e-01, -2.29624968e-01],\n",
       "       [ 6.19536705e-01,  4.17363756e-01],\n",
       "       [-1.23995452e+00,  1.10337948e+00],\n",
       "       [ 7.98507107e-01, -7.33936144e-01],\n",
       "       [-5.34203307e-01, -5.00163567e-01],\n",
       "       [-5.63468908e-01,  9.47315739e-01],\n",
       "       [-1.07111451e+00,  9.35535257e-02],\n",
       "       [ 1.74175992e+00, -3.11727577e-01],\n",
       "       [-4.91430507e-01, -9.67838090e-01],\n",
       "       [-1.52624903e-01,  3.24134057e-02],\n",
       "       [-5.57840908e-01,  7.02885077e-01],\n",
       "       [ 2.01939101e-01,  3.42053237e-01],\n",
       "       [-1.06436091e+00,  1.41511894e-02],\n",
       "       [-3.93503306e-01,  1.09840651e+00],\n",
       "       [-3.16962505e-01,  7.45627991e-01],\n",
       "       [ 9.72582994e-02,  2.33813456e-02],\n",
       "       [-2.10030504e-01,  1.09728238e+00],\n",
       "       [ 5.67366990e-02, -4.14587519e-01],\n",
       "       [-4.52034507e-01, -3.18225155e-01],\n",
       "       [ 2.21000952e+00,  5.16606793e-01],\n",
       "       [ 3.83349840e-03, -5.88357399e-03],\n",
       "       [-2.22412104e-01, -4.82644844e-01],\n",
       "       [-7.22178510e-01, -1.83995336e-01],\n",
       "       [-7.98719310e-01, -5.24746516e-02],\n",
       "       [ 2.15446301e-01,  6.12895542e-01],\n",
       "       [-1.53017018e-02, -1.33408300e-01],\n",
       "       [-1.15215771e+00, -1.47179215e-01],\n",
       "       [-1.61629703e-01, -4.03019490e-01],\n",
       "       [-5.31952107e-01,  6.30066304e-01],\n",
       "       [ 1.01760699e-01, -6.95488521e-01],\n",
       "       [-2.25788904e-01,  3.79214012e-01],\n",
       "       [ 4.81087904e-01, -1.83383264e-01],\n",
       "       [-3.91252106e-01, -6.26420825e-01],\n",
       "       [-3.21464905e-01,  3.36888626e-01],\n",
       "       [-1.23359303e-01, -6.10483210e-01],\n",
       "       [ 1.29264551e+00, -1.48476102e-02],\n",
       "       [-4.21643306e-01, -3.47051274e-01],\n",
       "       [-2.61808105e-01, -2.51484529e-01],\n",
       "       [-6.58019309e-01,  9.63290777e-01],\n",
       "       [-1.13752491e+00, -4.00987322e-01],\n",
       "       [ 1.19471831e+00,  3.84070953e-01],\n",
       "       [-1.68383303e-01,  5.28570554e-02],\n",
       "       [ 2.75103101e-01,  1.05204148e+00],\n",
       "       [ 1.41983831e+00,  4.00062880e-01],\n",
       "       [ 9.86482309e-01, -1.46026604e+00],\n",
       "       [-1.96523304e-01,  9.01527935e-02],\n",
       "       [-8.15603311e-01,  6.32672740e-01],\n",
       "       [-1.06886331e+00,  1.50737567e+00],\n",
       "       [ 1.69110792e+00, -1.87379754e-01],\n",
       "       [-1.10825931e+00, -6.33490804e-02],\n",
       "       [ 6.49927905e-01,  1.47570612e-01],\n",
       "       [-3.33113020e-02,  3.16501160e-01],\n",
       "       [ 2.05129992e+00, -1.34339804e+00],\n",
       "       [ 7.45603907e-01, -1.70649970e+00],\n",
       "       [-9.61931312e-01, -6.92233716e-02],\n",
       "       [ 3.20616553e+00, -3.50772542e-01],\n",
       "       [ 5.67366990e-02, -4.26037703e-02],\n",
       "       [-6.72652109e-01, -2.62195159e-01],\n",
       "       [-9.86694512e-01,  3.09625771e-01],\n",
       "       [-1.68383303e-01,  7.34643039e-01],\n",
       "       [-2.47175304e-01, -1.75846534e-01],\n",
       "       [ 3.30990987e-02, -6.44835090e-02],\n",
       "       [-3.75493706e-01, -1.74752140e-01],\n",
       "       [-1.88154652e+00,  2.70613013e+00],\n",
       "       [ 4.99830989e-02, -1.00817537e+00],\n",
       "       [-5.37580108e-01, -3.53784451e-01],\n",
       "       [-8.74134511e-01,  5.07150927e-02],\n",
       "       [-3.05706505e-01,  2.45202560e-01],\n",
       "       [ 7.96255907e-01, -7.20300861e-01],\n",
       "       [ 6.18411105e-01,  6.06793973e-01],\n",
       "       [-5.69096908e-01, -1.87827745e-01],\n",
       "       [-1.04410011e+00, -6.86962166e-01],\n",
       "       [-2.10030504e-01,  1.81673116e-01],\n",
       "       [ 8.34526308e-01, -2.25503708e-01],\n",
       "       [ 3.34759902e-01, -4.75698931e-01],\n",
       "       [-2.80943305e-01, -6.66905294e-02],\n",
       "       [-3.89393021e-02, -1.06348167e-01],\n",
       "       [-3.51856105e-01,  7.10110461e-01],\n",
       "       [-1.09362651e+00,  3.43336797e-01],\n",
       "       [ 1.45135511e+00, -1.28042643e-01],\n",
       "       [-4.28396906e-01, -5.54068773e-01],\n",
       "       [ 1.69335912e+00, -2.02919576e-01],\n",
       "       [-7.60448910e-01, -1.19950920e-01],\n",
       "       [-1.69508903e-01,  9.51906867e-01],\n",
       "       [ 5.54251904e-01,  1.24606240e+00],\n",
       "       [ 1.54663900e-01, -3.12167402e-01],\n",
       "       [ 1.03375751e+00, -9.39295576e-01],\n",
       "       [ 3.04368702e-01, -8.49568603e-02],\n",
       "       [-1.57988572e+00,  2.15112759e-01],\n",
       "       [-3.90126506e-01,  1.68470855e+00],\n",
       "       [ 3.33634302e-01, -2.94443699e-01],\n",
       "       [ 2.29442952e+00, -7.06401766e-01],\n",
       "       [ 8.43531108e-01, -2.32579660e-01],\n",
       "       [-8.73008911e-01, -5.92553288e-01],\n",
       "       [ 1.37779900e-01, -2.95559339e-01],\n",
       "       [-8.24608111e-01, -6.63156462e-01],\n",
       "       [-9.49549712e-01,  9.75631384e-01],\n",
       "       [-4.95932907e-01,  5.62061733e-01],\n",
       "       [ 2.75930233e+00, -1.71245996e+00],\n",
       "       [ 2.96489502e-01, -9.16211377e-02],\n",
       "       [ 1.27649500e-01,  5.61572178e-01],\n",
       "       [-4.98184107e-01, -8.86537688e-01],\n",
       "       [ 7.92486992e-02,  6.12711033e-01],\n",
       "       [ 6.10531905e-01,  1.53707264e-01],\n",
       "       [-1.74011304e-01,  7.43889329e-01],\n",
       "       [-6.16372108e-01,  1.94796080e+00],\n",
       "       [-6.51265709e-01,  8.77536154e-01],\n",
       "       [-1.41104572e+00, -3.75269896e-01],\n",
       "       [ 2.05805352e+00, -9.14450903e-01],\n",
       "       [ 4.68706304e-01, -8.91443875e-01],\n",
       "       [ 6.66811906e-01, -8.56662692e-02],\n",
       "       [-2.78692105e-01,  6.79159437e-01],\n",
       "       [ 1.14181511e+00,  1.40986169e-01],\n",
       "       [-1.02834171e+00, -3.27457216e-01],\n",
       "       [-8.27984911e-01, -2.62386326e-01],\n",
       "       [ 4.83339104e-01, -6.48763190e-01],\n",
       "       [-9.11279312e-01,  6.03840260e-01],\n",
       "       [-7.16550509e-01, -5.84382083e-01],\n",
       "       [-6.22000108e-01,  2.38124986e-01],\n",
       "       [-4.31773706e-01, -5.81009306e-01],\n",
       "       [-8.22356911e-01,  6.74693487e-01],\n",
       "       [ 1.12718231e+00, -3.25906246e-01],\n",
       "       [-1.26809452e+00,  2.11763561e-01],\n",
       "       [-5.92734508e-01, -3.78387160e-01],\n",
       "       [-9.46172912e-01,  2.45202560e-01],\n",
       "       [ 3.41513502e-01, -1.07097023e+00],\n",
       "       [-7.94609025e-02, -1.34848847e+00],\n",
       "       [ 5.44854990e-02, -3.47636667e-01],\n",
       "       [-9.69810512e-01, -4.35039313e-01],\n",
       "       [-8.47120111e-01,  3.82226864e-02],\n",
       "       [-1.71760104e-01,  2.81918791e-01],\n",
       "       [-1.26922012e+00, -2.28339078e-01],\n",
       "       [-1.06436091e+00,  5.38308684e-01],\n",
       "       [-6.34381709e-01, -3.19291329e-01],\n",
       "       [-4.26145706e-01, -5.87438663e-01],\n",
       "       [-7.45816110e-01,  7.90261058e-01],\n",
       "       [-2.60682504e-01,  6.48775347e-01],\n",
       "       [ 1.63370232e+00,  5.66602723e-01],\n",
       "       [ 2.40924072e+00, -6.46692075e-01],\n",
       "       [ 8.17642307e-01,  3.94446492e-01],\n",
       "       [-3.77744906e-01, -3.41522622e-01],\n",
       "       [-1.28722972e+00,  3.09090836e-01],\n",
       "       [-1.28987303e-01, -1.44127377e+00],\n",
       "       [-8.91018511e-01, -3.85279543e-01],\n",
       "       [-1.12626891e+00,  2.63984329e-01],\n",
       "       [-1.38178012e+00,  1.73116196e+00],\n",
       "       [-6.43386509e-01,  2.76969363e-01],\n",
       "       [-7.49192910e-01, -1.39131822e-01],\n",
       "       [-2.84320105e-01, -3.37019475e-02],\n",
       "       [ 5.36242304e-01, -1.30172577e+00],\n",
       "       [-1.79450166e-03, -9.78543219e-01],\n",
       "       [ 1.13281031e+00,  1.86912180e-01],\n",
       "       [ 3.19490953e+00, -9.35297952e-01],\n",
       "       [ 5.86894305e-01, -1.77245714e-01],\n",
       "       [-7.19927310e-01,  5.59814954e-01],\n",
       "       [-3.70991306e-01, -6.48383036e-01],\n",
       "       [ 1.92934300e-01,  3.26204458e-02],\n",
       "       [-8.02096110e-01,  6.01667278e-01],\n",
       "       [-4.02508106e-01, -6.14008841e-01],\n",
       "       [-6.72652109e-01, -2.62195159e-01],\n",
       "       [-2.56180104e-01,  1.72741873e-01],\n",
       "       [ 5.32865504e-01, -3.09738706e-01],\n",
       "       [ 1.09639900e-01, -8.68013801e-01],\n",
       "       [ 1.34217191e+00, -3.09966611e-01],\n",
       "       [-1.03509531e+00, -1.43934483e-01],\n",
       "       [-1.03059291e+00,  4.48655474e-01],\n",
       "       [ 3.49206794e+00,  5.90826656e-01],\n",
       "       [-4.47532107e-01,  6.41064571e-01],\n",
       "       [-1.41104572e+00,  9.01673417e+00],\n",
       "       [ 1.35793031e+00, -1.00020739e+00],\n",
       "       [-3.33846505e-01,  1.26355092e+00],\n",
       "       [ 1.47611831e+00, -1.08740028e+00],\n",
       "       [-2.13407304e-01, -8.04114088e-01],\n",
       "       [-5.97236908e-01, -3.72144021e-01],\n",
       "       [-1.14652971e+00,  4.19814574e+00],\n",
       "       [ 1.67084712e+00, -9.56410951e-01],\n",
       "       [ 1.67309832e+00, -8.95823260e-01],\n",
       "       [ 3.98919103e-01,  1.33517595e+00],\n",
       "       [ 2.87749033e+00, -1.37209662e+00],\n",
       "       [ 3.80909503e-01,  1.96453862e+00],\n",
       "       [ 2.33720232e+00, -1.42451552e+00],\n",
       "       [ 1.01760699e-01,  1.32672901e+00],\n",
       "       [ 1.25398300e-01,  1.09300556e-01],\n",
       "       [ 1.20147191e+00, -1.56107458e+00],\n",
       "       [-1.84141704e-01,  5.25619338e-01],\n",
       "       [ 3.73030302e-01,  2.02759875e-01],\n",
       "       [-4.61039307e-01, -1.06978792e+00],\n",
       "       [ 2.70789839e-03,  8.31982167e-01],\n",
       "       [ 9.74100709e-01, -1.16147802e+00],\n",
       "       [-4.84676907e-01, -4.97344604e-01],\n",
       "       [-3.60860906e-01,  1.32003277e+00],\n",
       "       [-1.37615212e+00,  4.86876203e-01],\n",
       "       [-1.06323531e+00,  5.35236429e-01],\n",
       "       [ 2.62535593e+00, -7.35397381e-01],\n",
       "       [-7.63825710e-01, -1.14139106e-01],\n",
       "       [-7.06420109e-01, -2.09429617e-01],\n",
       "       [-1.21108103e-01,  8.69393055e-01],\n",
       "       [-7.93091310e-01, -4.97446091e-02],\n",
       "       [-7.63825710e-01, -1.14139106e-01],\n",
       "       [-3.81121706e-01, -1.37226890e-01],\n",
       "       [ 8.37510993e-02,  5.58424250e-01],\n",
       "       [-3.73242506e-01,  5.79382202e-01],\n",
       "       [ 7.65864707e-01, -5.34216937e-01],\n",
       "       [ 2.13234312e+00, -1.36747250e+00],\n",
       "       [ 5.04725504e-01, -1.26602321e+00],\n",
       "       [-7.90840110e-01,  2.29089621e-01],\n",
       "       [ 1.15644791e+00, -1.54673887e+00],\n",
       "       [ 6.87072706e-01,  6.31732732e-01],\n",
       "       [ 3.21291913e+00,  4.17037552e-01],\n",
       "       [-7.33434510e-01,  4.52726576e-01],\n",
       "       [ 9.43709509e-01,  1.14754500e+00],\n",
       "       [-7.75081710e-01, -1.23929567e+00],\n",
       "       [ 9.41458309e-01, -8.89801138e-01],\n",
       "       [-9.22535312e-01, -5.14885121e-01],\n",
       "       [-1.35589132e+00,  4.14195282e-01],\n",
       "       [ 1.16545271e+00, -9.56258467e-01],\n",
       "       [-8.58376111e-01,  3.30098196e-01],\n",
       "       [-7.16550509e-01,  1.61635505e+00],\n",
       "       [-1.26134092e+00,  1.03325376e+00],\n",
       "       [-4.28396906e-01,  4.41894081e-01],\n",
       "       [-7.16550509e-01, -7.06645257e-01],\n",
       "       [-3.95754506e-01, -1.17242074e-01],\n",
       "       [-1.09137531e+00,  6.13869725e-01],\n",
       "       [ 7.47462992e-02, -2.31403218e-01],\n",
       "       [-7.32308910e-01,  7.22213523e-01],\n",
       "       [ 2.62721501e-01, -5.02136332e-01],\n",
       "       [ 4.75459904e-01, -1.27166305e+00],\n",
       "       [-4.61039307e-01,  4.98827559e-01],\n",
       "       [-9.20284112e-01,  2.15248065e+00],\n",
       "       [-1.01483451e+00, -3.98909870e-01],\n",
       "       [-4.79048907e-01,  5.31149320e-01],\n",
       "       [-1.09362651e+00, -6.01695617e-01],\n",
       "       [-8.08849711e-01, -1.33620357e+00],\n",
       "       [ 1.46823911e+00, -2.05366292e+00],\n",
       "       [ 1.80591912e+00, -4.99859091e-01],\n",
       "       [ 1.04051111e+00,  7.07572834e-01],\n",
       "       [ 8.32275107e-01, -1.43106581e+00],\n",
       "       [ 3.24629502e-01, -1.19087646e+00],\n",
       "       [-2.21286504e-01, -1.02709553e+00],\n",
       "       [-1.13228903e-01, -1.73622005e-02]])"
      ]
     },
     "execution_count": 73,
     "metadata": {},
     "output_type": "execute_result"
    }
   ],
   "source": [
    "x = df[[\"total_bill\", \"tip_rate\"]]\n",
    "scaler.fit_transform(x)"
   ]
  },
  {
   "cell_type": "markdown",
   "id": "bfbc6c7f",
   "metadata": {},
   "source": [
    "## Binomial Distribution"
   ]
  },
  {
   "cell_type": "code",
   "execution_count": 77,
   "id": "b29f63d4",
   "metadata": {},
   "outputs": [],
   "source": [
    "n = 3\n",
    "p = 1/6\n",
    "x = np.arange(n+1)\n",
    "y = stats.binom(n, p).pmf(x)"
   ]
  },
  {
   "cell_type": "code",
   "execution_count": 81,
   "id": "161f009b",
   "metadata": {},
   "outputs": [
    {
     "data": {
      "text/plain": [
       "<matplotlib.collections.LineCollection at 0x7f1a36395e50>"
      ]
     },
     "execution_count": 81,
     "metadata": {},
     "output_type": "execute_result"
    },
    {
     "data": {
      "image/png": "[encoded data removed]",
      "text/plain": [
       "<Figure size 432x288 with 1 Axes>"
      ]
     },
     "metadata": {
      "needs_background": "light"
     },
     "output_type": "display_data"
    }
   ],
   "source": [
    "plt.plot(x, y, \"o\")\n",
    "plt.vlines(x, 0, y)"
   ]
  },
  {
   "cell_type": "markdown",
   "id": "83451b75",
   "metadata": {},
   "source": [
    "## Binomial Diatribution and Normal Distribution"
   ]
  },
  {
   "cell_type": "code",
   "execution_count": 119,
   "id": "cf6df226",
   "metadata": {},
   "outputs": [],
   "source": [
    "n = 100\n",
    "p = 1/6\n",
    "x = np.arange(n+1)\n",
    "y = stats.binom(n, p).pmf(x)"
   ]
  },
  {
   "cell_type": "code",
   "execution_count": 120,
   "id": "72138341",
   "metadata": {},
   "outputs": [
    {
     "data": {
      "text/plain": [
       "<matplotlib.collections.LineCollection at 0x7f1a35c1ac70>"
      ]
     },
     "execution_count": 120,
     "metadata": {},
     "output_type": "execute_result"
    },
    {
     "data": {
      "image/png": "[encoded data removed]",
      "text/plain": [
       "<Figure size 432x288 with 1 Axes>"
      ]
     },
     "metadata": {
      "needs_background": "light"
     },
     "output_type": "display_data"
    }
   ],
   "source": [
    "plt.plot(x, y, \"o\")\n",
    "plt.vlines(x, 0, y)"
   ]
  },
  {
   "cell_type": "code",
   "execution_count": 128,
   "id": "3bb358ae",
   "metadata": {},
   "outputs": [],
   "source": [
    "n = 100\n",
    "p = 1/6\n",
    "x2 = np.linspace(0, n+1, 100)\n",
    "y2 = stats.norm(loc=n*p, scale=np.sqrt(n*p*(1-p))).pdf(x2)"
   ]
  },
  {
   "cell_type": "code",
   "execution_count": 129,
   "id": "18c2904f",
   "metadata": {},
   "outputs": [
    {
     "data": {
      "text/plain": [
       "[<matplotlib.lines.Line2D at 0x7f1a35b91cd0>]"
      ]
     },
     "execution_count": 129,
     "metadata": {},
     "output_type": "execute_result"
    },
    {
     "data": {
      "image/png": "[encoded data removed]",
      "text/plain": [
       "<Figure size 432x288 with 1 Axes>"
      ]
     },
     "metadata": {
      "needs_background": "light"
     },
     "output_type": "display_data"
    }
   ],
   "source": [
    "plt.plot(x, y, \"o\")\n",
    "plt.plot(x2, y2)"
   ]
  },
  {
   "cell_type": "code",
   "execution_count": null,
   "id": "ab6fe767",
   "metadata": {},
   "outputs": [],
   "source": []
  }
 ],
 "metadata": {
  "kernelspec": {
   "display_name": "Python 3 (ipykernel)",
   "language": "python",
   "name": "python3"
  },
  "language_info": {
   "codemirror_mode": {
    "name": "ipython",
    "version": 3
   },
   "file_extension": ".py",
   "mimetype": "text/x-python",
   "name": "python",
   "nbconvert_exporter": "python",
   "pygments_lexer": "ipython3",
   "version": "3.8.10"
  }
 },
 "nbformat": 4,
 "nbformat_minor": 5
}
